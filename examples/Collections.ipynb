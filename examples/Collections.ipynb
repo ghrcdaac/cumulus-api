{
 "cells": [
  {
   "cell_type": "markdown",
   "id": "9ac37aa0-7ee0-4eab-952d-265b82d52269",
   "metadata": {},
   "source": [
    "## Import Package"
   ]
  },
  {
   "cell_type": "code",
   "execution_count": 1,
   "id": "e75ddc63-9db3-4455-a3de-c8358b230670",
   "metadata": {},
   "outputs": [],
   "source": [
    "from cumulus_api import CumulusApi"
   ]
  },
  {
   "cell_type": "markdown",
   "id": "a366c6b2-535d-4714-b2c2-7ac92f9aec8f",
   "metadata": {},
   "source": [
    "## Initialize Cumulus API Class"
   ]
  },
  {
   "cell_type": "code",
   "execution_count": 2,
   "id": "47243600-d0eb-4cf3-9a0c-499add869e5b",
   "metadata": {},
   "outputs": [],
   "source": [
    "cml = CumulusApi()"
   ]
  },
  {
   "cell_type": "markdown",
   "id": "dc12627b-61f6-4d1e-9145-32b3cae364d8",
   "metadata": {},
   "source": [
    "## List Collections"
   ]
  },
  {
   "cell_type": "code",
   "execution_count": 3,
   "id": "a6cf4221-2e78-4565-8209-a339c365d171",
   "metadata": {},
   "outputs": [
    {
     "data": {
      "text/plain": [
       "{'meta': {'name': 'cumulus-api',\n",
       "  'stack': 'sharedsbx',\n",
       "  'table': 'collection',\n",
       "  'limit': 1,\n",
       "  'page': 1,\n",
       "  'count': 11},\n",
       " 'results': [{'process': 'metadataextractor',\n",
       "   'sampleFileName': 'delete_granules',\n",
       "   'granuleIdExtraction': '^(.*)',\n",
       "   'reportToEms': True,\n",
       "   'version': '1',\n",
       "   'createdAt': 1635447005136,\n",
       "   'granuleId': '^.*$',\n",
       "   'meta': {'delete_workflow': [{'ageoff': '0 days',\n",
       "      'remove_cumulus_record': 'false',\n",
       "      'bucket_type': 'private',\n",
       "      'prefix': 'gpm2dc3vp'},\n",
       "     {'ageoff': '0 days',\n",
       "      'remove_cumulus_record': 'false',\n",
       "      'bucket_type': 'private',\n",
       "      'prefix': 'gpmarsifld'},\n",
       "     {'ageoff': '0 days',\n",
       "      'remove_cumulus_record': 'false',\n",
       "      'bucket_type': 'private',\n",
       "      'prefix': 'gpmikalpvex'}]},\n",
       "   'name': 'delete_granules',\n",
       "   'files': [{'bucket': '*****',\n",
       "     'regex': '^(.*).*$',\n",
       "     'sampleFileName': 'delete_granules',\n",
       "     'reportToEms': True}],\n",
       "   'duplicateHandling': 'replace',\n",
       "   'updatedAt': 1635450961787,\n",
       "   'url_path': '****',\n",
       "   'timestamp': 1635450963539}]}"
      ]
     },
     "execution_count": 3,
     "metadata": {},
     "output_type": "execute_result"
    }
   ],
   "source": [
    "cml.list_collections(limit=1)"
   ]
  },
  {
   "cell_type": "markdown",
   "id": "646575f6-614b-45b8-9043-703cf57eea79",
   "metadata": {},
   "source": [
    "## List Collections With Active Granules"
   ]
  },
  {
   "cell_type": "code",
   "execution_count": 4,
   "id": "fcbb7a4d-a640-4973-9fb7-afdf08071c33",
   "metadata": {},
   "outputs": [
    {
     "data": {
      "text/plain": [
       "{'meta': {'name': 'cumulus-api',\n",
       "  'stack': 'sharedsbx',\n",
       "  'table': 'collection',\n",
       "  'limit': 1,\n",
       "  'page': 1,\n",
       "  'count': 8},\n",
       " 'results': [{'process': 'metadataextractor',\n",
       "   'sampleFileName': 'ifloods_ars_SF09_Hourly.csv',\n",
       "   'granuleIdExtraction': '^((ifloods_ars_).*)',\n",
       "   'reportToEms': True,\n",
       "   'version': '1',\n",
       "   'createdAt': 1635445471776,\n",
       "   'granuleId': '^ifloods_ars_.*\\\\.(csv|xlsx)$',\n",
       "   'meta': {'hyrax_processing': 'false',\n",
       "    'provider_path': 'gpmarsifld/fieldCampaigns/gpmValidation/ifloods/ARS_soil_moisture/data/',\n",
       "    'metadata_extractor': [{'regex': '^ifloods_ars_(.*).*\\\\.(csv|xlsx)$',\n",
       "      'module': 'ascii'}]},\n",
       "   'name': 'gpmarsifld',\n",
       "   'files': [{'bucket': 'protected',\n",
       "     'regex': '^ifloods_ars_(.*).*(csv|xlsx)$',\n",
       "     'sampleFileName': 'ifloods_ars_SF09_Hourly.csv',\n",
       "     'reportToEms': True},\n",
       "    {'bucket': 'public',\n",
       "     'regex': '^ifloods_ars_(.*).*\\\\.cmr\\\\.(xml|json)$',\n",
       "     'sampleFileName': 'ifloods_ars_SF09_Hourly.csv.cmr.xml',\n",
       "     'reportToEms': True}],\n",
       "   'duplicateHandling': 'replace',\n",
       "   'updatedAt': 1635445901201,\n",
       "   'url_path': 'gpmarsifld__1',\n",
       "   'timestamp': 1635445901611}]}"
      ]
     },
     "execution_count": 4,
     "metadata": {},
     "output_type": "execute_result"
    }
   ],
   "source": [
    "cml.list_collections_with_active_granules(limit=1)"
   ]
  },
  {
   "cell_type": "markdown",
   "id": "cbf4b07b-eebb-4c76-9c45-24132baf0db2",
   "metadata": {},
   "source": [
    "## Get Specific Field Of Collection "
   ]
  },
  {
   "cell_type": "code",
   "execution_count": 5,
   "id": "a0766e7b-37c9-45c7-9742-2b8a12350c04",
   "metadata": {},
   "outputs": [
    {
     "data": {
      "text/plain": [
       "{'meta': {'name': 'cumulus-api',\n",
       "  'stack': 'sharedsbx',\n",
       "  'table': 'collection',\n",
       "  'limit': 10,\n",
       "  'page': 1,\n",
       "  'count': 1},\n",
       " 'results': [{'meta': {'hyrax_processing': 'false',\n",
       "    'granuleRecoveryWorkflow': 'OrcaRecoveryWorkflow',\n",
       "    'excludeFileTypes': ['.cmr.json'],\n",
       "    'provider_path': 'aces1trig/fieldCampaigns/aces/triggered/data/',\n",
       "    'metadata_extractor': [{'regex': '^(.*)\\\\.(tar)$', 'module': 'legacy'}]},\n",
       "   'granuleIdExtraction': '^((aces1trig).*)'}]}"
      ]
     },
     "execution_count": 5,
     "metadata": {},
     "output_type": "execute_result"
    }
   ],
   "source": [
    "cml.list_collections(name=\"aces1trig\", version=\"1\", fields=\"granuleIdExtraction,meta\")"
   ]
  },
  {
   "cell_type": "markdown",
   "id": "39a5c266-ea2a-4410-801a-a901e059169a",
   "metadata": {},
   "source": [
    "## Get Collection"
   ]
  },
  {
   "cell_type": "code",
   "execution_count": 6,
   "id": "f4a9f482-2ba8-4ffe-817c-39b1f1956a16",
   "metadata": {},
   "outputs": [
    {
     "data": {
      "text/plain": [
       "{'process': 'metadataextractor',\n",
       " 'granuleIdExtraction': '^((aces1trig).*)',\n",
       " 'version': '1',\n",
       " 'meta': {'hyrax_processing': 'false',\n",
       "  'granuleRecoveryWorkflow': 'OrcaRecoveryWorkflow',\n",
       "  'excludeFileTypes': ['.cmr.json'],\n",
       "  'provider_path': 'aces1trig/fieldCampaigns/aces/triggered/data/',\n",
       "  'metadata_extractor': [{'regex': '^(.*)\\\\.(tar)$', 'module': 'legacy'}]},\n",
       " 'createdAt': 1634748011826,\n",
       " 'name': 'aces1trig',\n",
       " 'duplicateHandling': 'replace',\n",
       " 'files': [{'bucket': 'public',\n",
       "   'regex': '^aces1trig(.*)\\\\.cmr\\\\.(xml|json)$',\n",
       "   'reportToEms': True,\n",
       "   'sampleFileName': 'aces1trig_2002.191_v2.50.tar.cmr.xml'},\n",
       "  {'bucket': 'protected',\n",
       "   'regex': '^aces1trig_(.*)(tar)$',\n",
       "   'reportToEms': True,\n",
       "   'sampleFileName': 'aces1trig_2002.191_v2.50.tar'}],\n",
       " 'updatedAt': 1634851544930,\n",
       " 'url_path': 'aces1trig__1',\n",
       " 'reportToEms': True,\n",
       " 'granuleId': '^aces1trig(.*)_v2\\\\.50\\\\.(tar)$',\n",
       " 'sampleFileName': 'aces1trig_2002.191_v2.50.tar'}"
      ]
     },
     "execution_count": 6,
     "metadata": {},
     "output_type": "execute_result"
    }
   ],
   "source": [
    "cml.get_collection(collection_name=\"aces1trig\", collection_version=\"1\")"
   ]
  },
  {
   "cell_type": "markdown",
   "id": "da42d2ec-1393-4c8e-9bd9-4cdf937accdd",
   "metadata": {},
   "source": [
    "## Create Collection"
   ]
  },
  {
   "cell_type": "code",
   "execution_count": 7,
   "id": "33ad98a1-18c7-4878-a0b3-3ccace61e24e",
   "metadata": {},
   "outputs": [],
   "source": [
    "collection_definition = {\n",
    "    \"name\": \"testCollection\", \n",
    "    \"version\": \"1\", \n",
    "    \"granuleId\": \"^.*$\", \n",
    "    \"granuleIdExtraction\": \"^(.*)$\", \n",
    "    \"sampleFileName\": \"testFileName.txt\", \n",
    "    \"files\": [\n",
    "        {\n",
    "         \"bucket\": \"public\",\n",
    "         \"regex\": \"^.*$\",\n",
    "         \"sampleFileName\": \"testFileName.txt\"\n",
    "        }\n",
    "    ]\n",
    "}"
   ]
  },
  {
   "cell_type": "code",
   "execution_count": 8,
   "id": "e8e2b302-d3e4-464a-b425-0ec1a29c04b8",
   "metadata": {},
   "outputs": [
    {
     "data": {
      "text/plain": [
       "{'statusCode': 400,\n",
       " 'error': 'Bad Request',\n",
       " 'message': 'insert into \"collections\" (\"created_at\", \"duplicate_handling\", \"files\", \"granule_id_extraction_regex\", \"granule_id_validation_regex\", \"ignore_files_config_for_discovery\", \"meta\", \"name\", \"process\", \"report_to_ems\", \"sample_file_name\", \"tags\", \"updated_at\", \"url_path\", \"version\") values ($1, $2, $3, $4, $5, DEFAULT, DEFAULT, $6, DEFAULT, $7, $8, DEFAULT, $9, DEFAULT, $10) returning \"cumulus_id\" - duplicate key value violates unique constraint \"collections_name_version_unique\"'}"
      ]
     },
     "execution_count": 8,
     "metadata": {},
     "output_type": "execute_result"
    }
   ],
   "source": [
    "cml.create_collection(data=collection_definition)"
   ]
  },
  {
   "cell_type": "markdown",
   "id": "e42ce3f9-4a10-418e-9d20-c138c328162f",
   "metadata": {},
   "source": [
    "## Update/ Replace Collection"
   ]
  },
  {
   "cell_type": "code",
   "execution_count": 9,
   "id": "be36681a-f9d6-49a0-b7e7-fef783d1be18",
   "metadata": {},
   "outputs": [],
   "source": [
    "new_collection_definition = {\n",
    "    \"name\": \"testCollection\", \n",
    "    \"version\": \"1\", \n",
    "    \"granuleId\": \"^.*$\", \n",
    "    \"granuleIdExtraction\": \"^(.*)$\", \n",
    "    \"sampleFileName\": \"newFileName.txt\", \n",
    "    \"files\": [\n",
    "        {\n",
    "         \"bucket\": \"public\",\n",
    "         \"regex\": \"^.*$\",\n",
    "         \"sampleFileName\": \"newFileName.txt\"\n",
    "        }\n",
    "    ]\n",
    "}"
   ]
  },
  {
   "cell_type": "code",
   "execution_count": 10,
   "id": "27fc9555-17f3-4986-aa1d-057f0caf7d34",
   "metadata": {},
   "outputs": [
    {
     "data": {
      "text/plain": [
       "{'statusCode': 404,\n",
       " 'error': 'Not Found',\n",
       " 'message': \"Collection 'testCollection' version '1' not found\"}"
      ]
     },
     "execution_count": 10,
     "metadata": {},
     "output_type": "execute_result"
    }
   ],
   "source": [
    "cml.update_collection(data=new_collection_definition)"
   ]
  },
  {
   "cell_type": "markdown",
   "id": "58fbb5ff-f819-47ba-8308-86ea33bc59ec",
   "metadata": {},
   "source": [
    "## Delete Collection"
   ]
  },
  {
   "cell_type": "code",
   "execution_count": 11,
   "id": "256b38c5-ba3e-4e1c-872f-b619ef792edb",
   "metadata": {},
   "outputs": [
    {
     "data": {
      "text/plain": [
       "{'message': 'Record deleted'}"
      ]
     },
     "execution_count": 11,
     "metadata": {},
     "output_type": "execute_result"
    }
   ],
   "source": [
    "cml.delete_collection(collection_name=\"testCollection\", collection_version=\"1\")"
   ]
  }
 ],
 "metadata": {
  "kernelspec": {
   "display_name": "Python 3 (ipykernel)",
   "language": "python",
   "name": "python3"
  },
  "language_info": {
   "codemirror_mode": {
    "name": "ipython",
    "version": 3
   },
   "file_extension": ".py",
   "mimetype": "text/x-python",
   "name": "python",
   "nbconvert_exporter": "python",
   "pygments_lexer": "ipython3",
   "version": "3.7.10"
  }
 },
 "nbformat": 4,
 "nbformat_minor": 5
}
