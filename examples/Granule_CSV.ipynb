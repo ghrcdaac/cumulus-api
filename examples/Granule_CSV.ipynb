{
 "cells": [
  {
   "cell_type": "markdown",
   "id": "9ac37aa0-7ee0-4eab-952d-265b82d52269",
   "metadata": {},
   "source": [
    "## Import Package"
   ]
  },
  {
   "cell_type": "code",
   "execution_count": 1,
   "id": "e75ddc63-9db3-4455-a3de-c8358b230670",
   "metadata": {},
   "outputs": [],
   "source": [
    "from cumulus_api import CumulusApi"
   ]
  },
  {
   "cell_type": "markdown",
   "id": "a366c6b2-535d-4714-b2c2-7ac92f9aec8f",
   "metadata": {},
   "source": [
    "## Initialize Cumulus API Class"
   ]
  },
  {
   "cell_type": "code",
   "execution_count": 2,
   "id": "47243600-d0eb-4cf3-9a0c-499add869e5b",
   "metadata": {},
   "outputs": [],
   "source": [
    "cml = CumulusApi()"
   ]
  },
  {
   "cell_type": "markdown",
   "id": "dc12627b-61f6-4d1e-9145-32b3cae364d8",
   "metadata": {},
   "source": [
    "## Get Granule CSV File"
   ]
  },
  {
   "cell_type": "code",
   "execution_count": 3,
   "id": "a6cf4221-2e78-4565-8209-a339c365d171",
   "metadata": {},
   "outputs": [
    {
     "name": "stderr",
     "output_type": "stream",
     "text": [
      "ERROR:root:Extra data: line 1 column 12 (char 11)\n"
     ]
    },
    {
     "data": {
      "text/plain": [
       "b'\"granuleUr\",\"collectionId\",\"createdAt\",\"startDateTime\",\"endDateTime\",\"status\",\"updatedAt\",\"published\"\\n\"aces1trig_2002.191_v2.50.tar\",\"aces1trig___1\",\"2021-10-27T18:41:45.150Z\",\"2002-07-10T00:00:00Z\",\"2002-07-10T23:59:00Z\",\"completed\",\"2021-10-27T18:42:24.956Z\",true\\n\"Level2_KARX_20130618_0247.ar2v\",\"gpmkarx2ifld___1\",\"2021-10-21T14:07:44.500Z\",\"2013-06-18T02:47:00Z\",\"2013-06-18T02:56:59Z\",\"completed\",\"2021-10-21T14:08:08.828Z\",true\\n\"aces1trig_2002.241_v2.50.tar\",\"aces1trig___1\",\"2021-10-27T18:41:44.486Z\",\"2002-08-29T00:00:00Z\",\"2002-08-29T23:59:00Z\",\"completed\",\"2021-10-27T18:42:24.657Z\",true\\n\"ISS_LIS_BG_V2.0_20211020_235855_NRT.nc\",\"isslisg_v2_nrt___2\",\"2021-10-21T21:01:44.448Z\",\"2021-10-20T23:59:05Z\",\"2021-10-21T00:01:05Z\",\"completed\",\"2021-10-21T21:02:22.809Z\",true\\n\"Level2_KDVN_20130618_0059.ar2v\",\"gpmkdvn2ifld___1\",\"2021-10-25T15:57:44.350Z\",\"2013-06-18T00:59:00Z\",\"2013-06-18T01:08:59Z\",\"completed\",\"2021-10-25T15:58:14.882Z\",true\\n\"Level2_KDMX_20130618_0148.ar2v\",\"gpmkdmx2ifld___1\",\"2021-10-21T14:21:47.754Z\",\"2013-06-18T01:48:00Z\",\"2013-06-18T01:57:59Z\",\"completed\",\"2021-10-21T14:22:17.244Z\",true\\n\"Level2_KMPX_20130618_0104.ar2v\",\"gpmkmpx2ifld___1\",\"2021-10-25T16:02:44.607Z\",\"2013-06-18T01:04:00Z\",\"2013-06-18T01:13:59Z\",\"completed\",\"2021-10-25T16:03:06.062Z\",true\\n\"ISS_LIS_BG_V2.0_20211020_235855_NRT.hdf\",\"isslisg_v2_nrt___2\",\"2021-10-21T21:01:43.900Z\",\"2021-10-20T23:59:05Z\",\"2021-10-21T00:01:05Z\",\"completed\",\"2021-10-21T21:02:21.552Z\",true\\n\"aces1trig_2002.192_v2.50.tar\",\"aces1trig___1\",\"2021-10-27T18:41:44.598Z\",\"2002-07-11T00:00:00Z\",\"2002-07-11T23:59:00Z\",\"completed\",\"2021-10-27T18:42:28.383Z\",true\\n\"aces1trig_2002.193_v2.50.tar\",\"aces1trig___1\",\"2021-10-27T18:41:45.685Z\",\"2002-07-12T00:00:00Z\",\"2002-07-12T23:59:00Z\",\"completed\",\"2021-10-27T18:42:24.599Z\",true'"
      ]
     },
     "execution_count": 3,
     "metadata": {},
     "output_type": "execute_result"
    }
   ],
   "source": [
    "cml.get_granules_csv()"
   ]
  },
  {
   "cell_type": "code",
   "execution_count": null,
   "id": "420892a6-e3b4-42f1-8df7-2d3c63aed2d3",
   "metadata": {},
   "outputs": [],
   "source": [
    "# Note that the error output here is not indicative of an erroneous response from the Cumulus database \n",
    "# but rather a difference in the expected json response for py-cumulus-api's queries (byte string vs\n",
    "# json)."
   ]
  }
 ],
 "metadata": {
  "kernelspec": {
   "display_name": "Python 3 (ipykernel)",
   "language": "python",
   "name": "python3"
  },
  "language_info": {
   "codemirror_mode": {
    "name": "ipython",
    "version": 3
   },
   "file_extension": ".py",
   "mimetype": "text/x-python",
   "name": "python",
   "nbconvert_exporter": "python",
   "pygments_lexer": "ipython3",
   "version": "3.7.10"
  }
 },
 "nbformat": 4,
 "nbformat_minor": 5
}
