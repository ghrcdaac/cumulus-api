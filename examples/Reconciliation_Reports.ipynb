{
 "cells": [
  {
   "cell_type": "markdown",
   "metadata": {},
   "source": [
    "## Import Package"
   ]
  },
  {
   "cell_type": "code",
   "execution_count": 1,
   "metadata": {},
   "outputs": [],
   "source": [
    "from cumulus_api import CumulusApi"
   ]
  },
  {
   "cell_type": "markdown",
   "metadata": {},
   "source": [
    "## Initialize Cumulus API Class"
   ]
  },
  {
   "cell_type": "code",
   "execution_count": 2,
   "metadata": {},
   "outputs": [],
   "source": [
    "cml = CumulusApi()"
   ]
  },
  {
   "cell_type": "markdown",
   "metadata": {},
   "source": [
    "## List Reconciliation Reports"
   ]
  },
  {
   "cell_type": "code",
   "execution_count": 3,
   "metadata": {},
   "outputs": [
    {
     "data": {
      "text/plain": [
       "{'meta': {'name': 'cumulus-api',\n",
       "  'stack': 'sharedsbx',\n",
       "  'table': 'reconciliationReport',\n",
       "  'limit': 10,\n",
       "  'page': 1,\n",
       "  'count': 1},\n",
       " 'results': [{'createdAt': 1635453740597,\n",
       "   'name': 'inventoryReport-20211028T204220575',\n",
       "   'location': 's3://sharedsbx-internal/sharedsbx/reconciliation-reports/inventoryReport-20211028T204220575.json',\n",
       "   'type': 'Inventory',\n",
       "   'status': 'Pending',\n",
       "   'updatedAt': 1635453740597,\n",
       "   'timestamp': 1635453745818}]}"
      ]
     },
     "execution_count": 3,
     "metadata": {},
     "output_type": "execute_result"
    }
   ],
   "source": [
    "cml.list_reconciliation_reports()"
   ]
  },
  {
   "cell_type": "markdown",
   "metadata": {},
   "source": [
    "## Get Reconciliation Report"
   ]
  },
  {
   "cell_type": "markdown",
   "metadata": {},
   "source": [
    "## Create Reconciliation Report"
   ]
  },
  {
   "cell_type": "markdown",
   "metadata": {},
   "source": [
    "cml.create_reconciliation_report()"
   ]
  },
  {
   "cell_type": "markdown",
   "metadata": {},
   "source": [
    "## Delete Reconciliation Report"
   ]
  },
  {
   "cell_type": "code",
   "execution_count": 6,
   "metadata": {},
   "outputs": [
    {
     "data": {
      "text/plain": [
       "{'message': 'Report deleted'}"
      ]
     },
     "execution_count": 6,
     "metadata": {},
     "output_type": "execute_result"
    }
   ],
   "source": [
    "cml.delete_reconciliation_report(report_name=\"inventoryReport-20211028T204220575\")"
   ]
  }
 ],
 "metadata": {
  "language_info": {},
  "orig_nbformat": 3
 },
 "nbformat": 4,
 "nbformat_minor": 5
}