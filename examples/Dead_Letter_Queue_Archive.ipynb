{
 "cells": [
  {
   "cell_type": "markdown",
   "id": "cda5a0c5",
   "metadata": {},
   "source": [
    "# Use case\n",
    "Endpoint provides a mechanism for recovery of S3 sfEventSqsToDbRecords dead letter objects (created as described in the [Core Documentation](https://nasa.github.io/cumulus/docs/features/dead_letter_archive)). The endpoint will invoke an async operation that will attempt to process all of the objects in the specified location.\n"
   ]
  },
  {
   "cell_type": "markdown",
   "id": "92421beb",
   "metadata": {},
   "source": [
    "## Start by setting up the env variables [config](https://github.com/ghrcdaac/cumulus-api#config) then initiate Cumulus-api instance"
   ]
  },
  {
   "cell_type": "code",
   "execution_count": 1,
   "id": "ac58cab0",
   "metadata": {},
   "outputs": [],
   "source": [
    "from cumulus_api import CumulusApi"
   ]
  },
  {
   "cell_type": "code",
   "execution_count": 2,
   "id": "d5089c11",
   "metadata": {},
   "outputs": [],
   "source": [
    "cml = CumulusApi(config_path=\"../config.cfg\") # or cml = CumulusApi() if you are using env variables"
   ]
  },
  {
   "cell_type": "markdown",
   "id": "dc64be7c",
   "metadata": {},
   "source": [
    "## Invoke reprocessing dead letter queues "
   ]
  },
  {
   "cell_type": "code",
   "execution_count": 13,
   "id": "a71beaf9",
   "metadata": {},
   "outputs": [],
   "source": [
    "async_op = cml.recover_cumulus_messages(bucket=\"ghrcwuat-internal\", path=\"ghrcwuat/dead-letter-archive/sqs2\")\n",
    "async_op\n",
    "async_id = async_op['id']\n"
   ]
  },
  {
   "cell_type": "code",
   "execution_count": 15,
   "id": "00af3713",
   "metadata": {},
   "outputs": [
    {
     "data": {
      "text/plain": [
       "{'meta': {'name': 'cumulus-api',\n",
       "  'stack': 'ghrcwuat',\n",
       "  'table': 'asyncOperation',\n",
       "  'limit': 10,\n",
       "  'page': 1,\n",
       "  'count': 1},\n",
       " 'results': [{'output': '{\"processingSucceededKeys\":[\"ghrcwuat/dead-letter-archive/sqs2/isslis_v2_nrt-00274589-381a-488a-a401-41fbd692818f-5fd00078-e4ea-4e31-9a45-a1edf9f36898.json\"],\"processingFailedKeys\":[\"ghrcwuat/dead-letter-archive/sqs2/nalma-000119fd-a3cc-481e-ae57-8e9749279723-8767b99b-d115-42e1-ad3c-80215cb9acf2.json\",\"ghrcwuat/dead-letter-archive/sqs2/isslis_v2_nrt-00470b00-fb44-4e64-a4a8-1c51bedc3912-93db6bf8-6137-4664-9eb3-3d0af4e152a2.json\",\"ghrcwuat/dead-letter-archive/sqs2/isslis_v2_nrt-00446660-4c1f-4a86-9e48-880e8497fe5a-08b19eb1-90a5-4600-98db-5f013c470f7d.json\"]}',\n",
       "   'createdAt': 1647972240881,\n",
       "   'taskArn': 'arn:aws:ecs:us-west-2:150083386478:task/ghrcwuat-CumulusECSCluster/504bfe4479e140b38ec6aab0a1cec400',\n",
       "   'description': 'Dead-Letter Processor ECS Run',\n",
       "   'operationType': 'Dead-Letter Processing',\n",
       "   'id': '40bd2232-17e0-4b1a-9cdc-71699543bf25',\n",
       "   'status': 'SUCCEEDED',\n",
       "   'updatedAt': 1647972279899,\n",
       "   'timestamp': 1647972289035}]}"
      ]
     },
     "execution_count": 15,
     "metadata": {},
     "output_type": "execute_result"
    }
   ],
   "source": [
    "cml.list_async_operations(id=async_id)"
   ]
  },
  {
   "cell_type": "code",
   "execution_count": null,
   "id": "a68a8c40",
   "metadata": {},
   "outputs": [],
   "source": []
  }
 ],
 "metadata": {
  "kernelspec": {
   "display_name": "Python 3 (ipykernel)",
   "language": "python",
   "name": "python3"
  },
  "language_info": {
   "codemirror_mode": {
    "name": "ipython",
    "version": 3
   },
   "file_extension": ".py",
   "mimetype": "text/x-python",
   "name": "python",
   "nbconvert_exporter": "python",
   "pygments_lexer": "ipython3",
   "version": "3.9.0"
  }
 },
 "nbformat": 4,
 "nbformat_minor": 5
}
