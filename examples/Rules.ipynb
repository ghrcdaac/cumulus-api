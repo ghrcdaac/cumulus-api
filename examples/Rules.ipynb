{
 "cells": [
  {
   "cell_type": "markdown",
   "id": "9ac37aa0-7ee0-4eab-952d-265b82d52269",
   "metadata": {},
   "source": [
    "## Import Package"
   ]
  },
  {
   "cell_type": "code",
   "execution_count": 1,
   "id": "e75ddc63-9db3-4455-a3de-c8358b230670",
   "metadata": {},
   "outputs": [],
   "source": [
    "from cumulus_api import CumulusApi"
   ]
  },
  {
   "cell_type": "markdown",
   "id": "a366c6b2-535d-4714-b2c2-7ac92f9aec8f",
   "metadata": {},
   "source": [
    "## Initialize Cumulus API Class"
   ]
  },
  {
   "cell_type": "code",
   "execution_count": 2,
   "id": "47243600-d0eb-4cf3-9a0c-499add869e5b",
   "metadata": {},
   "outputs": [],
   "source": [
    "cml = CumulusApi()"
   ]
  },
  {
   "cell_type": "markdown",
   "id": "dc12627b-61f6-4d1e-9145-32b3cae364d8",
   "metadata": {},
   "source": [
    "## List Rules"
   ]
  },
  {
   "cell_type": "code",
   "execution_count": 3,
   "id": "a6cf4221-2e78-4565-8209-a339c365d171",
   "metadata": {},
   "outputs": [
    {
     "data": {
      "text/plain": [
       "{'meta': {'name': 'cumulus-api',\n",
       "  'stack': 'sharedsbx',\n",
       "  'table': 'rule',\n",
       "  'limit': 1,\n",
       "  'page': 1,\n",
       "  'count': 7},\n",
       " 'results': [{'executionNamePrefix': 'delete_test',\n",
       "   'createdAt': 1635447909982,\n",
       "   'workflow': 'DeleteGranules',\n",
       "   'provider': 'private_bucket',\n",
       "   'name': 'delete_rule',\n",
       "   'rule': {'type': 'onetime'},\n",
       "   'collection': {'name': 'delete_granules', 'version': '1'},\n",
       "   'state': 'DISABLED',\n",
       "   'updatedAt': 1635447909982,\n",
       "   'timestamp': 1635447911137}]}"
      ]
     },
     "execution_count": 3,
     "metadata": {},
     "output_type": "execute_result"
    }
   ],
   "source": [
    "cml.list_rules(limit=1)"
   ]
  },
  {
   "cell_type": "markdown",
   "id": "810fab2e-f829-4f52-a7b4-70b33d2816e8",
   "metadata": {},
   "source": [
    "## Get Rule"
   ]
  },
  {
   "cell_type": "code",
   "execution_count": 4,
   "id": "570dea6d-1351-44a5-a102-1a7e6b9ee66d",
   "metadata": {},
   "outputs": [
    {
     "data": {
      "text/plain": [
       "{'workflow': 'DiscoverGranules',\n",
       " 'collection': {'name': 'gpmkmpx2ifld', 'version': '1'},\n",
       " 'updatedAt': 1635360054516,\n",
       " 'createdAt': 1634748340973,\n",
       " 'provider': 'private_bucket',\n",
       " 'name': 'private_bucket_one_time_rule',\n",
       " 'rule': {'type': 'onetime'},\n",
       " 'state': 'ENABLED'}"
      ]
     },
     "execution_count": 4,
     "metadata": {},
     "output_type": "execute_result"
    }
   ],
   "source": [
    "cml.get_rule(rule_name=\"private_bucket_one_time_rule\")"
   ]
  },
  {
   "cell_type": "markdown",
   "id": "b7c50d05-c53c-4eea-9549-31ea5d961680",
   "metadata": {},
   "source": [
    "## Create Rule"
   ]
  },
  {
   "cell_type": "code",
   "execution_count": 5,
   "id": "bd7ad9dd-e6df-4dad-83f3-0fb4d6458f95",
   "metadata": {},
   "outputs": [],
   "source": [
    "rule_definition={\n",
    "    \"name\": \"testRule\",\n",
    "    \"workflow\": \"HelloWorldWorkflow\",\n",
    "    \"collection\": {\n",
    "        \"name\": \"aces1trig\",\n",
    "        \"version\": \"1\"\n",
    "    },\n",
    "    \"rule\": {\n",
    "        \"type\": \"onetime\"\n",
    "    }\n",
    "}"
   ]
  },
  {
   "cell_type": "code",
   "execution_count": 6,
   "id": "499d6bbd-aa9a-4f24-a575-2023e8fd5fbf",
   "metadata": {},
   "outputs": [
    {
     "data": {
      "text/plain": [
       "{'message': 'Record saved',\n",
       " 'record': {'createdAt': 1635453978751,\n",
       "  'updatedAt': 1635453978751,\n",
       "  'name': 'testRule',\n",
       "  'workflow': 'HelloWorldWorkflow',\n",
       "  'collection': {'name': 'aces1trig', 'version': '1'},\n",
       "  'rule': {'type': 'onetime'},\n",
       "  'state': 'ENABLED'}}"
      ]
     },
     "execution_count": 6,
     "metadata": {},
     "output_type": "execute_result"
    }
   ],
   "source": [
    "cml.create_rule(data=rule_definition)"
   ]
  },
  {
   "cell_type": "markdown",
   "id": "9a1fba1c-2834-4045-8b97-ae822353fe85",
   "metadata": {},
   "source": [
    "## Update/ Replace Rule"
   ]
  },
  {
   "cell_type": "code",
   "execution_count": 7,
   "id": "7af091e5-6ce0-423c-880a-ed60b7e98215",
   "metadata": {},
   "outputs": [],
   "source": [
    "new_rule_definition={\n",
    "    \"name\": \"testRule\",\n",
    "    \"workflow\": \"HelloWorldWorkflow\",\n",
    "    \"collection\": {\n",
    "        \"name\": \"gpmkmpx2ifld\",\n",
    "        \"version\": \"1\"\n",
    "    },\n",
    "    \"rule\": {\n",
    "        \"type\": \"onetime\"\n",
    "    }\n",
    "}"
   ]
  },
  {
   "cell_type": "code",
   "execution_count": 8,
   "id": "c47eed0a-0aec-4208-bbf9-00831b42c652",
   "metadata": {},
   "outputs": [
    {
     "data": {
      "text/plain": [
       "{'workflow': 'HelloWorldWorkflow',\n",
       " 'collection': {'name': 'gpmkmpx2ifld', 'version': '1'},\n",
       " 'updatedAt': 1635453980653,\n",
       " 'createdAt': 1635453978751,\n",
       " 'name': 'testRule',\n",
       " 'rule': {'type': 'onetime'},\n",
       " 'state': 'ENABLED'}"
      ]
     },
     "execution_count": 8,
     "metadata": {},
     "output_type": "execute_result"
    }
   ],
   "source": [
    "cml.update_rule(data=new_rule_definition)"
   ]
  },
  {
   "cell_type": "markdown",
   "id": "66a3e4fd-84d8-4335-9d58-84ca4dd58316",
   "metadata": {},
   "source": [
    "## Delete Rule"
   ]
  },
  {
   "cell_type": "code",
   "execution_count": 9,
   "id": "f73ee6e1-38d1-4328-9dbc-c3553c8a0792",
   "metadata": {},
   "outputs": [
    {
     "data": {
      "text/plain": [
       "{'message': 'Record deleted'}"
      ]
     },
     "execution_count": 9,
     "metadata": {},
     "output_type": "execute_result"
    }
   ],
   "source": [
    "cml.delete_rule(rule_name=\"testRule\")"
   ]
  },
  {
   "cell_type": "markdown",
   "id": "1c3f7930-ace4-4746-82bf-97d44c6c23a4",
   "metadata": {},
   "source": [
    "## Run Rule"
   ]
  },
  {
   "cell_type": "code",
   "execution_count": 10,
   "id": "edb6115b-56b3-4368-b85a-d0a43a796795",
   "metadata": {},
   "outputs": [
    {
     "data": {
      "text/plain": [
       "{'workflow': 'DiscoverGranules',\n",
       " 'collection': {'name': 'gpmkmpx2ifld', 'version': '1'},\n",
       " 'updatedAt': 1635360054516,\n",
       " 'createdAt': 1634748340973,\n",
       " 'provider': 'private_bucket',\n",
       " 'name': 'private_bucket_one_time_rule',\n",
       " 'rule': {'type': 'onetime'},\n",
       " 'state': 'ENABLED'}"
      ]
     },
     "execution_count": 10,
     "metadata": {},
     "output_type": "execute_result"
    }
   ],
   "source": [
    "cml.run_rule(rule_name=\"private_bucket_one_time_rule\")"
   ]
  }
 ],
 "metadata": {
  "kernelspec": {
   "display_name": "Python 3 (ipykernel)",
   "language": "python",
   "name": "python3"
  },
  "language_info": {
   "codemirror_mode": {
    "name": "ipython",
    "version": 3
   },
   "file_extension": ".py",
   "mimetype": "text/x-python",
   "name": "python",
   "nbconvert_exporter": "python",
   "pygments_lexer": "ipython3",
   "version": "3.7.10"
  }
 },
 "nbformat": 4,
 "nbformat_minor": 5
}
