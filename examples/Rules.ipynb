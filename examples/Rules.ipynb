{
 "cells": [
  {
   "cell_type": "code",
   "execution_count": 1,
   "metadata": {},
   "outputs": [],
   "source": [
    "from cumulus_api import CumulusApi\n",
    "cml = CumulusApi()"
   ]
  },
  {
   "cell_type": "markdown",
   "metadata": {},
   "source": [
    "## List all rules"
   ]
  },
  {
   "cell_type": "code",
   "execution_count": 2,
   "metadata": {},
   "outputs": [
    {
     "data": {
      "text/plain": [
       "{'meta': {'name': 'cumulus-api',\n",
       "  'stack': 'ghrcsit',\n",
       "  'table': 'rule',\n",
       "  'limit': 10,\n",
       "  'page': 1,\n",
       "  'count': 22},\n",
       " 'results': [{'executionNamePrefix': 'isslis_v1_nrt',\n",
       "   'createdAt': 1616440807435,\n",
       "   'workflow': 'DiscoverGranules',\n",
       "   'provider': 'protected_bucket',\n",
       "   'name': 'isslis_nrt_rule',\n",
       "   'rule': {'type': 'scheduled', 'value': 'cron(1/2 * * * ? *)'},\n",
       "   'collection': {'name': 'isslis_v1_nrt', 'version': '1'},\n",
       "   'state': 'DISABLED',\n",
       "   'updatedAt': 1621434321080,\n",
       "   'timestamp': 1621434322082},\n",
       "  {'executionNamePrefix': 'aces1cont',\n",
       "   'createdAt': 1621366360101,\n",
       "   'workflow': 'DiscoverGranules',\n",
       "   'provider': 'private_bucket',\n",
       "   'meta': {},\n",
       "   'name': 'private_bucket_one_time_rule',\n",
       "   'rule': {'type': 'onetime', 'value': 'null'},\n",
       "   'collection': {'name': 'aces1cont', 'version': '1'},\n",
       "   'state': 'ENABLED',\n",
       "   'updatedAt': 1621366360396,\n",
       "   'timestamp': 1621366361165},\n",
       "  {'executionNamePrefix': 'rss1windnv7r01',\n",
       "   'createdAt': 1587492129854,\n",
       "   'workflow': 'DiscoverGranules',\n",
       "   'provider': 'rss_provider',\n",
       "   'meta': {},\n",
       "   'name': 'rss1windnv7r01_rule',\n",
       "   'rule': {'type': 'scheduled', 'value': 'cron(30 4 ? * * *)'},\n",
       "   'collection': {'name': 'rss1windnv7r01', 'version': '7R01'},\n",
       "   'state': 'DISABLED',\n",
       "   'updatedAt': 1619540029915,\n",
       "   'timestamp': 1619540030645},\n",
       "  {'executionNamePrefix': 'rss1tpwnv7r01',\n",
       "   'createdAt': 1586380920027,\n",
       "   'workflow': 'DiscoverGranules',\n",
       "   'provider': 'rss_provider',\n",
       "   'meta': {},\n",
       "   'name': 'rss1tpwnv7r01_rule',\n",
       "   'rule': {'type': 'scheduled', 'value': 'rate(24 hours)'},\n",
       "   'collection': {'name': 'rss1tpwnv7r01', 'version': '7R01'},\n",
       "   'state': 'DISABLED',\n",
       "   'updatedAt': 1619537176042,\n",
       "   'timestamp': 1619537176381},\n",
       "  {'executionNamePrefix': 'msuttp',\n",
       "   'createdAt': 1618322606791,\n",
       "   'workflow': 'DiscoverGranules',\n",
       "   'provider': 'msut',\n",
       "   'name': 'msutlt_rule',\n",
       "   'rule': {'type': 'onetime'},\n",
       "   'collection': {'name': 'msuttp', 'version': '6'},\n",
       "   'state': 'ENABLED',\n",
       "   'updatedAt': 1618409595112,\n",
       "   'timestamp': 1618409595558},\n",
       "  {'createdAt': 1617397656371,\n",
       "   'workflow': 'DiscoverGranules-ORCA',\n",
       "   'provider': 'private_bucket',\n",
       "   'name': 'onetime_orca_run_private_bucket',\n",
       "   'rule': {'type': 'onetime'},\n",
       "   'collection': {'name': 'seaflux', 'version': '1'},\n",
       "   'state': 'ENABLED',\n",
       "   'updatedAt': 1618335834347,\n",
       "   'timestamp': 1618335835043},\n",
       "  {'executionNamePrefix': 'msutls',\n",
       "   'createdAt': 1618320499866,\n",
       "   'workflow': 'DiscoverGranules',\n",
       "   'provider': 'msut',\n",
       "   'name': 'msutls_rule',\n",
       "   'rule': {'type': 'onetime'},\n",
       "   'collection': {'name': 'msutls', 'version': '6'},\n",
       "   'state': 'ENABLED',\n",
       "   'updatedAt': 1618320500235,\n",
       "   'timestamp': 1618320501017},\n",
       "  {'createdAt': 1585600114040,\n",
       "   'workflow': 'DiscoverGranules',\n",
       "   'provider': 'msut',\n",
       "   'meta': {},\n",
       "   'name': 'msut_rule',\n",
       "   'rule': {'type': 'onetime', 'value': 'null'},\n",
       "   'collection': {'name': 'msutlt', 'version': '6'},\n",
       "   'state': 'ENABLED',\n",
       "   'updatedAt': 1617564245902,\n",
       "   'timestamp': 1617564246716},\n",
       "  {'executionNamePrefix': 'isslisg_v1_nrt',\n",
       "   'createdAt': 1616180461094,\n",
       "   'workflow': 'DiscoverGranules',\n",
       "   'provider': 'protected_bucket',\n",
       "   'name': 'isslisg_nrt_rule',\n",
       "   'rule': {'type': 'onetime'},\n",
       "   'collection': {'name': 'isslisg_v1_nrt', 'version': '1'},\n",
       "   'state': 'ENABLED',\n",
       "   'updatedAt': 1616180461410,\n",
       "   'timestamp': 1616180461658},\n",
       "  {'executionNamePrefix': 'delete_granules',\n",
       "   'createdAt': 1614879817239,\n",
       "   'workflow': 'DeleteGranules',\n",
       "   'provider': 'private_bucket',\n",
       "   'name': 'delete_granules',\n",
       "   'rule': {'type': 'onetime'},\n",
       "   'collection': {'name': 'delete_granules', 'version': '1'},\n",
       "   'state': 'ENABLED',\n",
       "   'updatedAt': 1614879817578,\n",
       "   'timestamp': 1614879818478}]}"
      ]
     },
     "execution_count": 2,
     "metadata": {},
     "output_type": "execute_result"
    }
   ],
   "source": [
    "cml.list_rules()"
   ]
  },
  {
   "cell_type": "markdown",
   "metadata": {},
   "source": [
    "## List a particular rule (by name)"
   ]
  },
  {
   "cell_type": "code",
   "execution_count": 3,
   "metadata": {},
   "outputs": [
    {
     "data": {
      "text/plain": [
       "{'meta': {'name': 'cumulus-api',\n",
       "  'stack': 'ghrcwuat',\n",
       "  'table': 'rule',\n",
       "  'limit': 10,\n",
       "  'page': 1,\n",
       "  'count': 1},\n",
       " 'results': [{'createdAt': 1585683431672,\n",
       "   'workflow': 'DiscoverGranules',\n",
       "   'provider': 'msut_provider',\n",
       "   'meta': {},\n",
       "   'name': 'msutmt_rule',\n",
       "   'rule': {'type': 'onetime', 'value': 'null'},\n",
       "   'collection': {'name': 'msutmt', 'version': '6'},\n",
       "   'state': 'ENABLED',\n",
       "   'updatedAt': 1585683431672,\n",
       "   'timestamp': 1585683432275}]}"
      ]
     },
     "execution_count": 3,
     "metadata": {},
     "output_type": "execute_result"
    }
   ],
   "source": [
    "cml.list_rules(name=\"msutmt_rule\")"
   ]
  },
  {
   "cell_type": "markdown",
   "metadata": {},
   "source": [
    "## Only list particular fields from the rules"
   ]
  },
  {
   "cell_type": "code",
   "execution_count": 4,
   "metadata": {},
   "outputs": [
    {
     "data": {
      "text/plain": [
       "{'meta': {'name': 'cumulus-api',\n",
       "  'stack': 'ghrcwuat',\n",
       "  'table': 'rule',\n",
       "  'limit': 10,\n",
       "  'page': 1,\n",
       "  'count': 5},\n",
       " 'results': [{'provider': 'private_bucket',\n",
       "   'rule': {'type': 'onetime', 'value': 'null'}},\n",
       "  {'provider': 'msut_provider', 'rule': {'type': 'onetime', 'value': 'null'}},\n",
       "  {'provider': 'msut_provider', 'rule': {'type': 'onetime', 'value': 'null'}},\n",
       "  {'provider': 'msut_provider', 'rule': {'type': 'onetime', 'value': 'null'}},\n",
       "  {'provider': 'msut_provider', 'rule': {'type': 'onetime', 'value': 'null'}}]}"
      ]
     },
     "execution_count": 4,
     "metadata": {},
     "output_type": "execute_result"
    }
   ],
   "source": [
    "cml.list_rules(fields=\"provider,rule\")"
   ]
  },
  {
   "cell_type": "markdown",
   "metadata": {},
   "source": [
    "## Create rule"
   ]
  },
  {
   "cell_type": "code",
   "execution_count": 5,
   "metadata": {},
   "outputs": [
    {
     "data": {
      "text/plain": [
       "{'message': 'Record saved',\n",
       " 'record': {'createdAt': 1588345987467,\n",
       "  'name': 'test_onetime_run_private_bucket',\n",
       "  'workflow': 'DiscoverGranules',\n",
       "  'provider': 'private_bucket',\n",
       "  'collection': {'name': 'goesrpltmisrep', 'version': '1'},\n",
       "  'meta': {},\n",
       "  'rule': {'type': 'onetime', 'value': 'null'},\n",
       "  'state': 'ENABLED',\n",
       "  'updatedAt': 1588345987467}}"
      ]
     },
     "execution_count": 5,
     "metadata": {},
     "output_type": "execute_result"
    }
   ],
   "source": [
    "data = {\n",
    "\t\"name\": \"test_onetime_run_private_bucket\",\n",
    "\t\"workflow\": \"DiscoverGranules\",\n",
    "\t\"provider\": \"private_bucket\",\n",
    "\t\"collection\": {\n",
    "\t\t\"name\": \"goesrpltmisrep\",\n",
    "\t\t\"version\": \"1\"\n",
    "\t},\n",
    "\t\"meta\": {},\n",
    "\t\"rule\": {\n",
    "\t\t\"type\": \"onetime\",\n",
    "\t\t\"value\": \"null\"\n",
    "\t},\n",
    "\t\"state\": \"ENABLED\"\n",
    "}\n",
    "\n",
    "cml.create_rule(data=data)"
   ]
  },
  {
   "cell_type": "code",
   "execution_count": 7,
   "metadata": {},
   "outputs": [
    {
     "data": {
      "text/plain": [
       "{'message': 'Record deleted'}"
      ]
     },
     "execution_count": 7,
     "metadata": {},
     "output_type": "execute_result"
    }
   ],
   "source": [
    "cml.delete_rule(name=\"test_onetime_run_private_bucket\")"
   ]
  },
  {
   "cell_type": "markdown",
   "metadata": {},
   "source": [
    "## Update rule"
   ]
  },
  {
   "cell_type": "code",
   "execution_count": 2,
   "metadata": {},
   "outputs": [
    {
     "data": {
      "text/plain": [
       "{'workflow': 'DiscoverGranules',\n",
       " 'collection': {'name': 'rssmif16d', 'version': '7'},\n",
       " 'updatedAt': 1591631968386,\n",
       " 'createdAt': 1589217290438,\n",
       " 'provider': 'rss_provider',\n",
       " 'name': 'rss_provider',\n",
       " 'rule': {'type': 'onetime'},\n",
       " 'state': 'ENABLED'}"
      ]
     },
     "execution_count": 2,
     "metadata": {},
     "output_type": "execute_result"
    }
   ],
   "source": [
    "data = {   'workflow': 'DiscoverGranules',\n",
    "'provider': 'rss_provider',\n",
    "'name': 'rss_provider',\n",
    "'rule': {'type': 'onetime'},\n",
    "'collection': {'name': 'rssmif16d', 'version': '7'},\n",
    "'state': 'ENABLED'}\n",
    "\n",
    "cml.update_rule(name=\"rss_provider\", data=data)"
   ]
  },
  {
   "cell_type": "markdown",
   "metadata": {},
   "source": [
    "# Run a rule"
   ]
  },
  {
   "cell_type": "code",
   "execution_count": 2,
   "metadata": {},
   "outputs": [
    {
     "data": {
      "text/plain": [
       "{'workflow': 'DiscoverGranules',\n",
       " 'executionNamePrefix': 'aces1cont',\n",
       " 'collection': {'name': 'aces1cont', 'version': '1'},\n",
       " 'updatedAt': 1621366360396,\n",
       " 'meta': {},\n",
       " 'createdAt': 1621366360101,\n",
       " 'provider': 'private_bucket',\n",
       " 'name': 'private_bucket_one_time_rule',\n",
       " 'rule': {'type': 'onetime', 'value': 'null'},\n",
       " 'state': 'ENABLED'}"
      ]
     },
     "execution_count": 2,
     "metadata": {},
     "output_type": "execute_result"
    }
   ],
   "source": [
    "cml.run_rule(name=\"private_bucket_one_time_rule\")"
   ]
  },
  {
   "cell_type": "code",
   "execution_count": null,
   "metadata": {},
   "outputs": [],
   "source": []
  }
 ],
 "metadata": {
  "kernelspec": {
   "display_name": "Python 3",
   "language": "python",
   "name": "python3"
  },
  "language_info": {
   "codemirror_mode": {
    "name": "ipython",
    "version": 3
   },
   "file_extension": ".py",
   "mimetype": "text/x-python",
   "name": "python",
   "nbconvert_exporter": "python",
   "pygments_lexer": "ipython3",
   "version": "3.8.5"
  }
 },
 "nbformat": 4,
 "nbformat_minor": 4
}
