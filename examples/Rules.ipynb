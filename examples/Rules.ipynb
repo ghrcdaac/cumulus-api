{
 "cells": [
  {
   "cell_type": "code",
   "execution_count": 1,
   "metadata": {},
   "outputs": [],
   "source": [
    "from cumulus_api import CumulusApi\n",
    "cml = CumulusApi()"
   ]
  },
  {
   "cell_type": "markdown",
   "metadata": {},
   "source": [
    "## List all rules"
   ]
  },
  {
   "cell_type": "code",
   "execution_count": 2,
   "metadata": {},
   "outputs": [
    {
     "data": {
      "text/plain": [
       "{'meta': {'name': 'cumulus-api',\n",
       "  'stack': 'ghrcwuat',\n",
       "  'table': 'rule',\n",
       "  'limit': 10,\n",
       "  'page': 1,\n",
       "  'count': 5},\n",
       " 'results': [{'createdAt': 1588273716770,\n",
       "   'workflow': 'DiscoverGranules',\n",
       "   'provider': 'private_bucket',\n",
       "   'meta': {},\n",
       "   'name': 'onetime_run_private_bucket',\n",
       "   'rule': {'type': 'onetime', 'value': 'null'},\n",
       "   'collection': {'name': 'gpmkumlpvex', 'version': '1'},\n",
       "   'state': 'ENABLED',\n",
       "   'updatedAt': 1588343343997,\n",
       "   'timestamp': 1588343345008},\n",
       "  {'createdAt': 1585683466489,\n",
       "   'workflow': 'DiscoverGranules',\n",
       "   'provider': 'msut_provider',\n",
       "   'meta': {},\n",
       "   'name': 'msuttp_rule',\n",
       "   'rule': {'type': 'onetime', 'value': 'null'},\n",
       "   'collection': {'name': 'msuttp', 'version': '6'},\n",
       "   'state': 'ENABLED',\n",
       "   'updatedAt': 1585683466489,\n",
       "   'timestamp': 1585683467060},\n",
       "  {'createdAt': 1585683431672,\n",
       "   'workflow': 'DiscoverGranules',\n",
       "   'provider': 'msut_provider',\n",
       "   'meta': {},\n",
       "   'name': 'msutmt_rule',\n",
       "   'rule': {'type': 'onetime', 'value': 'null'},\n",
       "   'collection': {'name': 'msutmt', 'version': '6'},\n",
       "   'state': 'ENABLED',\n",
       "   'updatedAt': 1585683431672,\n",
       "   'timestamp': 1585683432275},\n",
       "  {'createdAt': 1585683406511,\n",
       "   'workflow': 'DiscoverGranules',\n",
       "   'provider': 'msut_provider',\n",
       "   'meta': {},\n",
       "   'name': 'msutlt_rule',\n",
       "   'rule': {'type': 'onetime', 'value': 'null'},\n",
       "   'collection': {'name': 'msutlt', 'version': '6'},\n",
       "   'state': 'ENABLED',\n",
       "   'updatedAt': 1585683406511,\n",
       "   'timestamp': 1585683407259},\n",
       "  {'createdAt': 1585677114289,\n",
       "   'workflow': 'DiscoverGranules',\n",
       "   'provider': 'msut_provider',\n",
       "   'meta': {},\n",
       "   'name': 'msutls_rule',\n",
       "   'rule': {'type': 'onetime', 'value': 'null'},\n",
       "   'collection': {'name': 'msutls', 'version': '6'},\n",
       "   'state': 'ENABLED',\n",
       "   'updatedAt': 1585677429886,\n",
       "   'timestamp': 1585677430386}]}"
      ]
     },
     "execution_count": 2,
     "metadata": {},
     "output_type": "execute_result"
    }
   ],
   "source": [
    "cml.list_rules()"
   ]
  },
  {
   "cell_type": "markdown",
   "metadata": {},
   "source": [
    "## List a particular rule (by name)"
   ]
  },
  {
   "cell_type": "code",
   "execution_count": 3,
   "metadata": {},
   "outputs": [
    {
     "data": {
      "text/plain": [
       "{'meta': {'name': 'cumulus-api',\n",
       "  'stack': 'ghrcwuat',\n",
       "  'table': 'rule',\n",
       "  'limit': 10,\n",
       "  'page': 1,\n",
       "  'count': 1},\n",
       " 'results': [{'createdAt': 1585683431672,\n",
       "   'workflow': 'DiscoverGranules',\n",
       "   'provider': 'msut_provider',\n",
       "   'meta': {},\n",
       "   'name': 'msutmt_rule',\n",
       "   'rule': {'type': 'onetime', 'value': 'null'},\n",
       "   'collection': {'name': 'msutmt', 'version': '6'},\n",
       "   'state': 'ENABLED',\n",
       "   'updatedAt': 1585683431672,\n",
       "   'timestamp': 1585683432275}]}"
      ]
     },
     "execution_count": 3,
     "metadata": {},
     "output_type": "execute_result"
    }
   ],
   "source": [
    "cml.list_rules(name=\"msutmt_rule\")"
   ]
  },
  {
   "cell_type": "markdown",
   "metadata": {},
   "source": [
    "## Only list particular fields from the rules"
   ]
  },
  {
   "cell_type": "code",
   "execution_count": 4,
   "metadata": {},
   "outputs": [
    {
     "data": {
      "text/plain": [
       "{'meta': {'name': 'cumulus-api',\n",
       "  'stack': 'ghrcwuat',\n",
       "  'table': 'rule',\n",
       "  'limit': 10,\n",
       "  'page': 1,\n",
       "  'count': 5},\n",
       " 'results': [{'provider': 'private_bucket',\n",
       "   'rule': {'type': 'onetime', 'value': 'null'}},\n",
       "  {'provider': 'msut_provider', 'rule': {'type': 'onetime', 'value': 'null'}},\n",
       "  {'provider': 'msut_provider', 'rule': {'type': 'onetime', 'value': 'null'}},\n",
       "  {'provider': 'msut_provider', 'rule': {'type': 'onetime', 'value': 'null'}},\n",
       "  {'provider': 'msut_provider', 'rule': {'type': 'onetime', 'value': 'null'}}]}"
      ]
     },
     "execution_count": 4,
     "metadata": {},
     "output_type": "execute_result"
    }
   ],
   "source": [
    "cml.list_rules(fields=\"provider,rule\")"
   ]
  },
  {
   "cell_type": "markdown",
   "metadata": {},
   "source": [
    "## Create rule"
   ]
  },
  {
   "cell_type": "code",
   "execution_count": 5,
   "metadata": {},
   "outputs": [
    {
     "data": {
      "text/plain": [
       "{'message': 'Record saved',\n",
       " 'record': {'createdAt': 1588345987467,\n",
       "  'name': 'test_onetime_run_private_bucket',\n",
       "  'workflow': 'DiscoverGranules',\n",
       "  'provider': 'private_bucket',\n",
       "  'collection': {'name': 'goesrpltmisrep', 'version': '1'},\n",
       "  'meta': {},\n",
       "  'rule': {'type': 'onetime', 'value': 'null'},\n",
       "  'state': 'ENABLED',\n",
       "  'updatedAt': 1588345987467}}"
      ]
     },
     "execution_count": 5,
     "metadata": {},
     "output_type": "execute_result"
    }
   ],
   "source": [
    "data = {\n",
    "\t\"name\": \"test_onetime_run_private_bucket\",\n",
    "\t\"workflow\": \"DiscoverGranules\",\n",
    "\t\"provider\": \"private_bucket\",\n",
    "\t\"collection\": {\n",
    "\t\t\"name\": \"goesrpltmisrep\",\n",
    "\t\t\"version\": \"1\"\n",
    "\t},\n",
    "\t\"meta\": {},\n",
    "\t\"rule\": {\n",
    "\t\t\"type\": \"onetime\",\n",
    "\t\t\"value\": \"null\"\n",
    "\t},\n",
    "\t\"state\": \"ENABLED\"\n",
    "}\n",
    "\n",
    "cml.create_rule(data=data)"
   ]
  },
  {
   "cell_type": "code",
   "execution_count": 7,
   "metadata": {},
   "outputs": [
    {
     "data": {
      "text/plain": [
       "{'message': 'Record deleted'}"
      ]
     },
     "execution_count": 7,
     "metadata": {},
     "output_type": "execute_result"
    }
   ],
   "source": [
    "cml.delete_rule(name=\"test_onetime_run_private_bucket\")"
   ]
  },
  {
   "cell_type": "markdown",
   "metadata": {},
   "source": [
    "## Update rule"
   ]
  },
  {
   "cell_type": "code",
   "execution_count": 2,
   "metadata": {},
   "outputs": [
    {
     "data": {
      "text/plain": [
       "{'workflow': 'DiscoverGranules',\n",
       " 'collection': {'name': 'rssmif16d', 'version': '7'},\n",
       " 'updatedAt': 1591631968386,\n",
       " 'createdAt': 1589217290438,\n",
       " 'provider': 'rss_provider',\n",
       " 'name': 'rss_provider',\n",
       " 'rule': {'type': 'onetime'},\n",
       " 'state': 'ENABLED'}"
      ]
     },
     "execution_count": 2,
     "metadata": {},
     "output_type": "execute_result"
    }
   ],
   "source": [
    "data = {   'workflow': 'DiscoverGranules',\n",
    "'provider': 'rss_provider',\n",
    "'name': 'rss_provider',\n",
    "'rule': {'type': 'onetime'},\n",
    "'collection': {'name': 'rssmif16d', 'version': '7'},\n",
    "'state': 'ENABLED'}\n",
    "\n",
    "cml.update_rule(name=\"rss_provider\", data=data)"
   ]
  },
  {
   "cell_type": "code",
   "execution_count": null,
   "metadata": {},
   "outputs": [],
   "source": []
  }
 ],
 "metadata": {
  "kernelspec": {
   "display_name": "Python 3",
   "language": "python",
   "name": "python3"
  },
  "language_info": {
   "codemirror_mode": {
    "name": "ipython",
    "version": 3
   },
   "file_extension": ".py",
   "mimetype": "text/x-python",
   "name": "python",
   "nbconvert_exporter": "python",
   "pygments_lexer": "ipython3",
   "version": "3.7.4"
  }
 },
 "nbformat": 4,
 "nbformat_minor": 4
}
