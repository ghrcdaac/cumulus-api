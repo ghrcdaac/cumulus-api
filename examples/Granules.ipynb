{
 "cells": [
  {
   "cell_type": "markdown",
   "id": "9ac37aa0-7ee0-4eab-952d-265b82d52269",
   "metadata": {},
   "source": [
    "## Import Package"
   ]
  },
  {
   "cell_type": "code",
   "execution_count": 1,
   "id": "e75ddc63-9db3-4455-a3de-c8358b230670",
   "metadata": {},
   "outputs": [],
   "source": [
    "from cumulus_api import CumulusApi"
   ]
  },
  {
   "cell_type": "markdown",
   "id": "a366c6b2-535d-4714-b2c2-7ac92f9aec8f",
   "metadata": {},
   "source": [
    "## Initialize Cumulus API Class"
   ]
  },
  {
   "cell_type": "code",
   "execution_count": 2,
   "id": "47243600-d0eb-4cf3-9a0c-499add869e5b",
   "metadata": {},
   "outputs": [],
   "source": [
    "cml = CumulusApi()"
   ]
  },
  {
   "cell_type": "markdown",
   "id": "dc12627b-61f6-4d1e-9145-32b3cae364d8",
   "metadata": {},
   "source": [
    "## List Granules"
   ]
  },
  {
   "cell_type": "code",
   "execution_count": 3,
   "id": "a6cf4221-2e78-4565-8209-a339c365d171",
   "metadata": {},
   "outputs": [
    {
     "data": {
      "text/plain": [
       "{'meta': {'name': 'cumulus-api',\n",
       "  'stack': 'sharedsbx',\n",
       "  'table': 'granule',\n",
       "  'limit': 1,\n",
       "  'page': 1,\n",
       "  'count': 163},\n",
       " 'results': [{'execution': 'https://console.aws.amazon.com/states/home?region=us-west-2#/executions/details/arn:aws:states:us-west-2:xxxxxxxxxxxx:execution:sharedsbx-IngestGranule:aces1trig-4f0edd64-1d1b-44e0-b837-a97ac9b32ccd',\n",
       "   'lastUpdateDateTime': '2021-10-28T21:01:58Z',\n",
       "   'productionDateTime': '2021-10-28T21:01:58Z',\n",
       "   'processingEndDateTime': '2021-10-28T21:02:19.129Z',\n",
       "   'published': True,\n",
       "   'error': {},\n",
       "   'productVolume': 290311947,\n",
       "   'endingDateTime': '2002-07-10T23:59:00Z',\n",
       "   'timeToPreprocess': 0,\n",
       "   'duration': 35.147,\n",
       "   'cmrLink': 'https://cmr.uat.earthdata.nasa.gov/search/concepts/G1241305568-GHRC_CDEV.umm_json',\n",
       "   'createdAt': 1635454904463,\n",
       "   'granuleId': 'aces1trig_2002.191_v2.50.tar',\n",
       "   'processingStartDateTime': '2021-10-28T21:01:44.607Z',\n",
       "   'provider': 'private_bucket',\n",
       "   'beginningDateTime': '2002-07-10T00:00:00Z',\n",
       "   'timeToArchive': 5.953,\n",
       "   'files': [{'bucket': 'sharedsbx-protected',\n",
       "     'fileName': 'aces1trig_2002.191_v2.50.tar',\n",
       "     'size': 290310000,\n",
       "     'source': 's3://sharedsbx-private/mdx_staging/aces1trig_2002.191_v2.50.tar',\n",
       "     'key': 'aces1trig__1/aces1trig_2002.191_v2.50.tar'},\n",
       "    {'bucket': 'sharedsbx-public',\n",
       "     'fileName': 'aces1trig_2002.191_v2.50.tar.cmr.json',\n",
       "     'size': 1947,\n",
       "     'source': 's3://sharedsbx-private/mdx_staging/aces1trig_2002.191_v2.50.tar.cmr.json',\n",
       "     'type': 'metadata',\n",
       "     'key': 'aces1trig__1/aces1trig_2002.191_v2.50.tar.cmr.json'}],\n",
       "   'collectionId': 'aces1trig___1',\n",
       "   'status': 'completed',\n",
       "   'timestamp': 1635454940100,\n",
       "   'updatedAt': 1635454939610}]}"
      ]
     },
     "execution_count": 3,
     "metadata": {},
     "output_type": "execute_result"
    }
   ],
   "source": [
    "cml.list_granules(limit=1)"
   ]
  },
  {
   "cell_type": "markdown",
   "id": "459e2a3b-ca1f-4916-9027-a468d0028a7a",
   "metadata": {},
   "source": [
    "## Get Granule"
   ]
  },
  {
   "cell_type": "code",
   "execution_count": 4,
   "id": "7b036808-1ce2-411c-b061-6af712313f57",
   "metadata": {},
   "outputs": [
    {
     "data": {
      "text/plain": [
       "{'published': True,\n",
       " 'endingDateTime': '2002-08-29T23:59:00Z',\n",
       " 'status': 'completed',\n",
       " 'timestamp': 1635454933130,\n",
       " 'createdAt': 1635454905459,\n",
       " 'processingEndDateTime': '2021-10-28T21:02:12.273Z',\n",
       " 'productVolume': 48391946,\n",
       " 'timeToPreprocess': 0,\n",
       " 'timeToArchive': 6.533,\n",
       " 'productionDateTime': '2021-10-28T21:01:53Z',\n",
       " 'cmrLink': 'https://cmr.uat.earthdata.nasa.gov/search/concepts/G1241305553-GHRC_CDEV.umm_json',\n",
       " 'execution': 'https://console.aws.amazon.com/states/home?region=us-west-2#/executions/details/arn:aws:states:us-west-2:xxxxxxxxxxxx:execution:sharedsbx-IngestGranule:aces1trig-608cf84e-5fd1-4f1c-8f63-b11c93ca131c',\n",
       " 'files': [{'bucket': 'sharedsbx-protected',\n",
       "   'key': 'aces1trig__1/aces1trig_2002.241_v2.50.tar',\n",
       "   'size': 48390000,\n",
       "   'fileName': 'aces1trig_2002.241_v2.50.tar',\n",
       "   'source': 's3://sharedsbx-private/mdx_staging/aces1trig_2002.241_v2.50.tar'},\n",
       "  {'bucket': 'sharedsbx-public',\n",
       "   'key': 'aces1trig__1/aces1trig_2002.241_v2.50.tar.cmr.json',\n",
       "   'size': 1946,\n",
       "   'fileName': 'aces1trig_2002.241_v2.50.tar.cmr.json',\n",
       "   'source': 's3://sharedsbx-private/mdx_staging/aces1trig_2002.241_v2.50.tar.cmr.json',\n",
       "   'type': 'metadata'}],\n",
       " 'processingStartDateTime': '2021-10-28T21:01:45.576Z',\n",
       " 'updatedAt': 1635454933130,\n",
       " 'beginningDateTime': '2002-08-29T00:00:00Z',\n",
       " 'provider': 'private_bucket',\n",
       " 'granuleId': 'aces1trig_2002.241_v2.50.tar',\n",
       " 'collectionId': 'aces1trig___1',\n",
       " 'duration': 27.671,\n",
       " 'error': {},\n",
       " 'lastUpdateDateTime': '2021-10-28T21:01:53Z'}"
      ]
     },
     "execution_count": 4,
     "metadata": {},
     "output_type": "execute_result"
    }
   ],
   "source": [
    "cml.get_granule(granule_id=\"aces1trig_2002.241_v2.50.tar\")"
   ]
  },
  {
   "cell_type": "markdown",
   "id": "62d69eb0-3ced-42c5-89c4-f1db728f6a57",
   "metadata": {},
   "source": [
    "## Create Granule"
   ]
  },
  {
   "cell_type": "code",
   "execution_count": 5,
   "id": "ad9a1629-9020-411d-b570-53fc3c368688",
   "metadata": {},
   "outputs": [],
   "source": [
    "granule_definition={\n",
    "    \"granuleId\": \"fakeGranule.txt\",\n",
    "    \"collectionId\": \"aces1trig___1\",\n",
    "    \"status\": \"running\"\n",
    "}"
   ]
  },
  {
   "cell_type": "code",
   "execution_count": 6,
   "id": "08709bea-d6db-45a7-8f77-22300f849488",
   "metadata": {},
   "outputs": [
    {
     "data": {
      "text/plain": [
       "{'message': 'Successfully wrote granule with Granule Id: fakeGranule.txt'}"
      ]
     },
     "execution_count": 6,
     "metadata": {},
     "output_type": "execute_result"
    }
   ],
   "source": [
    "cml.create_granule(data=granule_definition)"
   ]
  },
  {
   "cell_type": "markdown",
   "id": "c1abe994-26b0-47e6-b191-714f6d90582a",
   "metadata": {},
   "source": [
    "## Update/ Replace Granule"
   ]
  },
  {
   "cell_type": "code",
   "execution_count": 7,
   "id": "8bd23cf6-50ac-4dc2-803e-c048651e758b",
   "metadata": {},
   "outputs": [],
   "source": [
    "new_granule_definition={\n",
    "    \"granuleId\": \"fakeGranule.txt\",\n",
    "    \"collectionId\": \"aces1trig___1\",\n",
    "    \"status\": \"completed\"\n",
    "}"
   ]
  },
  {
   "cell_type": "code",
   "execution_count": 8,
   "id": "ae73b954-e3b8-48cb-85cf-8e44a6234bca",
   "metadata": {},
   "outputs": [
    {
     "data": {
      "text/plain": [
       "{'message': 'Successfully updated granule with Granule Id: fakeGranule.txt'}"
      ]
     },
     "execution_count": 8,
     "metadata": {},
     "output_type": "execute_result"
    }
   ],
   "source": [
    "cml.update_granule(data=new_granule_definition)"
   ]
  },
  {
   "cell_type": "markdown",
   "id": "7d61757d-5ac9-45fd-826d-d054ed146285",
   "metadata": {},
   "source": [
    "## Associate Execution With Granule"
   ]
  },
  {
   "cell_type": "code",
   "execution_count": 9,
   "id": "4e8cfb7c-0d98-4c72-9516-5003b40142ab",
   "metadata": {},
   "outputs": [
    {
     "data": {
      "text/plain": [
       "'arn:aws:states:us-west-2:xxxxxxxxxxxx:execution:sharedsbx-IngestGranule:aces1trig-4f0edd64-1d1b-44e0-b837-a97ac9b32ccd'"
      ]
     },
     "execution_count": 9,
     "metadata": {},
     "output_type": "execute_result"
    }
   ],
   "source": [
    "cml.list_executions(limit=1)['results'][0]['arn']"
   ]
  },
  {
   "cell_type": "code",
   "execution_count": 10,
   "id": "9623432b-6f12-4381-a617-6f347e506831",
   "metadata": {},
   "outputs": [],
   "source": [
    "associate_definition={\n",
    "    \"collectionId\": \"aces1trig___1\",\n",
    "    \"granuleId\": \"fakeGranule.txt\",\n",
    "    \"executionArn\": \"arn:aws:states:us-west-2:xxxxxxxxxxxx:execution:sharedsbx-HelloWorldWorkflow:b5f79496-e3c0-4ecb-a88f-1b61ee210eb2\"\n",
    "}"
   ]
  },
  {
   "cell_type": "code",
   "execution_count": 11,
   "id": "9cfebe0a-fe29-4681-bcfb-daaeb3d5c2e5",
   "metadata": {},
   "outputs": [
    {
     "data": {
      "text/plain": [
       "{'message': 'Successfully associated execution arn:aws:states:us-west-2:xxxxxxxxxxxx:execution:sharedsbx-HelloWorldWorkflow:b5f79496-e3c0-4ecb-a88f-1b61ee210eb2 with granule granuleId fakeGranule.txt collectionId aces1trig___1'}"
      ]
     },
     "execution_count": 11,
     "metadata": {},
     "output_type": "execute_result"
    }
   ],
   "source": [
    "cml.associate_execution(data=associate_definition)"
   ]
  },
  {
   "cell_type": "markdown",
   "id": "8ee1b3b6-e324-45f8-bdc2-081d7fe610e6",
   "metadata": {},
   "source": [
    "## Reingest Granule"
   ]
  },
  {
   "cell_type": "code",
   "execution_count": 12,
   "id": "68b0969b-d8c3-412f-b3b8-78bab91fd8dc",
   "metadata": {},
   "outputs": [
    {
     "data": {
      "text/plain": [
       "{'action': 'reingest',\n",
       " 'granuleId': 'aces1trig_2002.191_v2.50.tar',\n",
       " 'status': 'SUCCESS'}"
      ]
     },
     "execution_count": 12,
     "metadata": {},
     "output_type": "execute_result"
    }
   ],
   "source": [
    "cml.reingest_granule(granule_id=\"aces1trig_2002.191_v2.50.tar\")"
   ]
  },
  {
   "cell_type": "code",
   "execution_count": 13,
   "id": "b30374b8-bccc-42bb-8a84-164766ccec95",
   "metadata": {},
   "outputs": [
    {
     "data": {
      "text/plain": [
       "{'action': 'reingest',\n",
       " 'granuleId': 'aces1trig_2002.241_v2.50.tar',\n",
       " 'status': 'SUCCESS'}"
      ]
     },
     "execution_count": 13,
     "metadata": {},
     "output_type": "execute_result"
    }
   ],
   "source": [
    "cml.reingest_granule(granule_id=\"aces1trig_2002.241_v2.50.tar\", data={\"action\": \"reingest\", \"workflowName\": \"IngestGranule\"})"
   ]
  },
  {
   "cell_type": "markdown",
   "id": "a7015a60-6cc7-454a-a342-f6d3015d4b24",
   "metadata": {},
   "source": [
    "## Apply Workflow To Granule"
   ]
  },
  {
   "cell_type": "code",
   "execution_count": 14,
   "id": "895d80bb-d828-4e37-9ead-82982204878c",
   "metadata": {},
   "outputs": [
    {
     "data": {
      "text/plain": [
       "{'granuleId': 'aces1trig_2002.191_v2.50.tar',\n",
       " 'action': 'applyWorkflow HelloWorldWorkflow',\n",
       " 'status': 'SUCCESS'}"
      ]
     },
     "execution_count": 14,
     "metadata": {},
     "output_type": "execute_result"
    }
   ],
   "source": [
    "cml.apply_workflow_to_granule(granule_id=\"aces1trig_2002.191_v2.50.tar\", workflow_name=\"HelloWorldWorkflow\")"
   ]
  },
  {
   "cell_type": "markdown",
   "id": "ebc1a066-5008-4aea-b4fc-ecd30ad49337",
   "metadata": {},
   "source": [
    "## Move Granule"
   ]
  },
  {
   "cell_type": "code",
   "execution_count": 15,
   "id": "052de975-babc-40b5-bc6b-6700ea0750e8",
   "metadata": {},
   "outputs": [
    {
     "data": {
      "text/plain": [
       "{'granuleId': 'aces1trig_2002.191_v2.50.tar',\n",
       " 'action': 'move',\n",
       " 'status': 'SUCCESS'}"
      ]
     },
     "execution_count": 15,
     "metadata": {},
     "output_type": "execute_result"
    }
   ],
   "source": [
    "cml.move_granule(granule_id=\"aces1trig_2002.191_v2.50.tar\", regex=\".*\\.cmr\\.xml\", bucket=\"sharedsbx-private\", file_path=\"tmp/test_move_granule/\")"
   ]
  },
  {
   "cell_type": "markdown",
   "id": "c251f9ae-b959-4534-8f8d-7e3f4c556f23",
   "metadata": {
    "tags": []
   },
   "source": [
    "## Remove Granule From CMR"
   ]
  },
  {
   "cell_type": "code",
   "execution_count": 16,
   "id": "78e77224-9ed4-4764-8c90-cc7b6e7c9e57",
   "metadata": {},
   "outputs": [
    {
     "data": {
      "text/plain": [
       "{'granuleId': 'aces1trig_2002.193_v2.50.tar',\n",
       " 'action': 'removeFromCmr',\n",
       " 'status': 'SUCCESS'}"
      ]
     },
     "execution_count": 16,
     "metadata": {},
     "output_type": "execute_result"
    }
   ],
   "source": [
    "cml.remove_granule_from_cmr(granule_id=\"aces1trig_2002.193_v2.50.tar\")"
   ]
  },
  {
   "cell_type": "markdown",
   "id": "b9fc9741-7cb6-4706-baea-83eb9a0c3f3a",
   "metadata": {},
   "source": [
    "## Delete Granule"
   ]
  },
  {
   "cell_type": "code",
   "execution_count": 17,
   "id": "b4913b42-ef5d-46b8-95e1-e5c51c7b4870",
   "metadata": {},
   "outputs": [
    {
     "data": {
      "text/plain": [
       "{'detail': 'Record deleted'}"
      ]
     },
     "execution_count": 17,
     "metadata": {},
     "output_type": "execute_result"
    }
   ],
   "source": [
    "cml.delete_granule(granule_id=\"aces1trig_2002.193_v2.50.tar\")"
   ]
  },
  {
   "cell_type": "markdown",
   "id": "c092b4d4-6d04-4e29-a82b-226690de3b46",
   "metadata": {},
   "source": [
    "## Bulk Operations"
   ]
  },
  {
   "cell_type": "code",
   "execution_count": 18,
   "id": "da96f46e-a35c-4c48-92ff-c67840bba042",
   "metadata": {},
   "outputs": [],
   "source": [
    "bulk_op_data={\n",
    "    \"ids\": [\"fakeGranule.txt\"],\n",
    "    \"workflowName\": \"HelloWorldWorkflow\"\n",
    "}"
   ]
  },
  {
   "cell_type": "code",
   "execution_count": 19,
   "id": "0f8153ea-294a-42a0-9234-3a55a24307e8",
   "metadata": {},
   "outputs": [
    {
     "data": {
      "text/plain": [
       "{'createdAt': 1635455002882,\n",
       " 'updatedAt': 1635455002882,\n",
       " 'id': '7c252f9e-c6d1-4c85-8789-668aac660ef7',\n",
       " 'status': 'RUNNING',\n",
       " 'taskArn': 'arn:aws:ecs:us-west-2:xxxxxxxxxxxx:task/sharedsbx-CumulusECSCluster/f9d41a8704de4d9290bbbb3665434f88',\n",
       " 'description': 'Bulk run HelloWorldWorkflow on 1 granules',\n",
       " 'operationType': 'Bulk Granules'}"
      ]
     },
     "execution_count": 19,
     "metadata": {},
     "output_type": "execute_result"
    }
   ],
   "source": [
    "cml.granules_bulk_op(data=bulk_op_data)"
   ]
  },
  {
   "cell_type": "markdown",
   "id": "ff5f0794-6387-4220-8868-be3869b1b7bc",
   "metadata": {},
   "source": [
    "## Bulk Delete"
   ]
  },
  {
   "cell_type": "code",
   "execution_count": 20,
   "id": "d6e84f21-af30-4375-b178-eeb2899d1fd1",
   "metadata": {},
   "outputs": [],
   "source": [
    "bulk_delete_data={\n",
    "    \"ids\": [\"fakeGranule.txt\"],\n",
    "    \"forceRemoveFromCmr\": True\n",
    "}"
   ]
  },
  {
   "cell_type": "code",
   "execution_count": 21,
   "id": "dd867c7c-6b49-4b75-8c0e-a0e2fc1739fc",
   "metadata": {},
   "outputs": [
    {
     "data": {
      "text/plain": [
       "{'createdAt': 1635455004377,\n",
       " 'updatedAt': 1635455004377,\n",
       " 'id': '935d40a0-fd91-47b4-9a06-1fbfc9969f1b',\n",
       " 'status': 'RUNNING',\n",
       " 'taskArn': 'arn:aws:ecs:us-west-2:xxxxxxxxxxxx:task/sharedsbx-CumulusECSCluster/abd6cd841f364ef7a767e169f32d531e',\n",
       " 'description': 'Bulk granule deletion',\n",
       " 'operationType': 'Bulk Granule Delete'}"
      ]
     },
     "execution_count": 21,
     "metadata": {},
     "output_type": "execute_result"
    }
   ],
   "source": [
    "cml.bulk_delete(data=bulk_delete_data)"
   ]
  },
  {
   "cell_type": "markdown",
   "id": "3217b005-249b-4cc6-9505-934a6dc1f5f3",
   "metadata": {},
   "source": [
    "## Bulk Reingest"
   ]
  },
  {
   "cell_type": "code",
   "execution_count": 22,
   "id": "6c18d00b-07dc-44e5-98a1-2ae78c5490ac",
   "metadata": {},
   "outputs": [],
   "source": [
    "bulk_reingest_data={\n",
    "    \"ids\": [\"fakeGranule.txt\"],\n",
    "    \"workflowName\": \"HelloWorldWorkflow\",\n",
    "}"
   ]
  },
  {
   "cell_type": "code",
   "execution_count": 23,
   "id": "a84163c1-52cd-43e9-8aad-0e5daae872f9",
   "metadata": {},
   "outputs": [
    {
     "data": {
      "text/plain": [
       "{'createdAt': 1635455005885,\n",
       " 'updatedAt': 1635455005885,\n",
       " 'id': 'e651048e-3d3b-49e7-8c13-4bd53f968f46',\n",
       " 'status': 'RUNNING',\n",
       " 'taskArn': 'arn:aws:ecs:us-west-2:xxxxxxxxxxxx:task/sharedsbx-CumulusECSCluster/d8ed50a040fd4b0298a2b62713002679',\n",
       " 'description': 'Bulk granule reingest run on 1 granules',\n",
       " 'operationType': 'Bulk Granule Reingest'}"
      ]
     },
     "execution_count": 23,
     "metadata": {},
     "output_type": "execute_result"
    }
   ],
   "source": [
    "cml.bulk_reingest(data=bulk_reingest_data)"
   ]
  }
 ],
 "metadata": {
  "kernelspec": {
   "display_name": "Python 3 (ipykernel)",
   "language": "python",
   "name": "python3"
  },
  "language_info": {
   "codemirror_mode": {
    "name": "ipython",
    "version": 3
   },
   "file_extension": ".py",
   "mimetype": "text/x-python",
   "name": "python",
   "nbconvert_exporter": "python",
   "pygments_lexer": "ipython3",
   "version": "3.7.10"
  }
 },
 "nbformat": 4,
 "nbformat_minor": 5
}