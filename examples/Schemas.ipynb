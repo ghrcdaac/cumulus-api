{
 "cells": [
  {
   "cell_type": "markdown",
   "id": "9ac37aa0-7ee0-4eab-952d-265b82d52269",
   "metadata": {},
   "source": [
    "## Import Package"
   ]
  },
  {
   "cell_type": "code",
   "execution_count": 1,
   "id": "e75ddc63-9db3-4455-a3de-c8358b230670",
   "metadata": {},
   "outputs": [],
   "source": [
    "from cumulus_api import CumulusApi"
   ]
  },
  {
   "cell_type": "markdown",
   "id": "a366c6b2-535d-4714-b2c2-7ac92f9aec8f",
   "metadata": {},
   "source": [
    "## Initialize Cumulus API Class"
   ]
  },
  {
   "cell_type": "code",
   "execution_count": 2,
   "id": "47243600-d0eb-4cf3-9a0c-499add869e5b",
   "metadata": {},
   "outputs": [],
   "source": [
    "cml = CumulusApi()"
   ]
  },
  {
   "cell_type": "markdown",
   "id": "dc12627b-61f6-4d1e-9145-32b3cae364d8",
   "metadata": {},
   "source": [
    "## Get Schema"
   ]
  },
  {
   "cell_type": "code",
   "execution_count": 3,
   "id": "a6cf4221-2e78-4565-8209-a339c365d171",
   "metadata": {},
   "outputs": [
    {
     "data": {
      "text/plain": [
       "{'title': 'Provider Object',\n",
       " 'description': 'Keep the information about each ingest endpoint',\n",
       " 'type': 'object',\n",
       " 'properties': {'id': {'title': 'Provider Name', 'type': 'string'},\n",
       "  'globalConnectionLimit': {'title': 'Concurrent Connection Limit',\n",
       "   'type': 'integer'},\n",
       "  'protocol': {'title': 'Protocol',\n",
       "   'type': 'string',\n",
       "   'enum': ['http', 'https', 'ftp', 'sftp', 's3'],\n",
       "   'default': 'http'},\n",
       "  'host': {'title': 'Host', 'type': 'string'},\n",
       "  'allowedRedirects': {'title': 'Allowed redirects',\n",
       "   'description': 'Only hosts in this list will have the provider username/password forwarded for authentication. Entries should be specified as host.com or host.com:7000 if redirect port is different than the provider port.',\n",
       "   'type': 'array',\n",
       "   'items': {'type': 'string'}},\n",
       "  'port': {'title': 'Port', 'type': 'number'},\n",
       "  'username': {'type': 'string'},\n",
       "  'password': {'type': 'string'},\n",
       "  'encrypted': {'type': 'boolean', 'readonly': True},\n",
       "  'createdAt': {'type': 'integer', 'readonly': True},\n",
       "  'updatedAt': {'type': 'integer', 'readonly': True},\n",
       "  'privateKey': {'type': 'string',\n",
       "   'description': 'filename assumed to be in s3://bucketInternal/stackName/crypto'},\n",
       "  'cmKeyId': {'type': 'string',\n",
       "   'description': 'AWS KMS Customer Master Key arn or alias'},\n",
       "  'certificateUri': {'type': 'string',\n",
       "   'description': 'Optional SSL Certificate S3 URI for custom or self-signed SSL (TLS) certificate'}},\n",
       " 'required': ['id', 'protocol', 'host', 'createdAt']}"
      ]
     },
     "execution_count": 3,
     "metadata": {},
     "output_type": "execute_result"
    }
   ],
   "source": [
    "cml.get_schema(schema_type=\"provider\")"
   ]
  }
 ],
 "metadata": {
  "kernelspec": {
   "display_name": "Python 3 (ipykernel)",
   "language": "python",
   "name": "python3"
  },
  "language_info": {
   "codemirror_mode": {
    "name": "ipython",
    "version": 3
   },
   "file_extension": ".py",
   "mimetype": "text/x-python",
   "name": "python",
   "nbconvert_exporter": "python",
   "pygments_lexer": "ipython3",
   "version": "3.7.10"
  }
 },
 "nbformat": 4,
 "nbformat_minor": 5
}
