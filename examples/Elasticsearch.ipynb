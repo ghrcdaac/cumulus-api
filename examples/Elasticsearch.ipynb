{
 "cells": [
  {
   "cell_type": "markdown",
   "id": "9ac37aa0-7ee0-4eab-952d-265b82d52269",
   "metadata": {},
   "source": [
    "## Import Package"
   ]
  },
  {
   "cell_type": "code",
   "execution_count": 1,
   "id": "e75ddc63-9db3-4455-a3de-c8358b230670",
   "metadata": {},
   "outputs": [],
   "source": [
    "from cumulus_api import CumulusApi"
   ]
  },
  {
   "cell_type": "markdown",
   "id": "a366c6b2-535d-4714-b2c2-7ac92f9aec8f",
   "metadata": {},
   "source": [
    "## Initialize Cumulus API Class"
   ]
  },
  {
   "cell_type": "code",
   "execution_count": 2,
   "id": "47243600-d0eb-4cf3-9a0c-499add869e5b",
   "metadata": {},
   "outputs": [],
   "source": [
    "cml = CumulusApi()"
   ]
  },
  {
   "cell_type": "markdown",
   "id": "dc12627b-61f6-4d1e-9145-32b3cae364d8",
   "metadata": {},
   "source": [
    "## Reindex ElasticSearch"
   ]
  },
  {
   "cell_type": "code",
   "execution_count": 3,
   "id": "a6cf4221-2e78-4565-8209-a339c365d171",
   "metadata": {},
   "outputs": [],
   "source": [
    "reindex_definition={\n",
    "    \"destIndex\": \"cumulus-new-index\"\n",
    "}"
   ]
  },
  {
   "cell_type": "code",
   "execution_count": 4,
   "id": "db85525b-8630-45df-b75c-335ffbf0db00",
   "metadata": {},
   "outputs": [],
   "source": [
    "cml.reindex_elasticsearch(data=reindex_definition)"
   ]
  },
  {
   "cell_type": "markdown",
   "id": "36b62c3c-eaaa-4515-ae5f-b1799ba2ee3f",
   "metadata": {},
   "source": [
    "## Get Reindex Status"
   ]
  },
  {
   "cell_type": "code",
   "execution_count": 5,
   "id": "b8303954-ad4a-4783-835c-b8f3e2d3a2c3",
   "metadata": {},
   "outputs": [
    {
     "data": {
      "text/plain": [
       "{'reindexStatus': {'nodes': {}},\n",
       " 'indexStatus': {'_shards': {'total': 6, 'successful': 3, 'failed': 0},\n",
       "  '_all': {'primaries': {'docs': {'count': 64, 'deleted': 4}},\n",
       "   'total': {'docs': {'count': 64, 'deleted': 4}}},\n",
       "  'indices': {'.kibana': {'primaries': {'docs': {'count': 1, 'deleted': 0}},\n",
       "    'total': {'docs': {'count': 1, 'deleted': 0}}},\n",
       "   'cumulus': {'primaries': {'docs': {'count': 63, 'deleted': 4}},\n",
       "    'total': {'docs': {'count': 63, 'deleted': 4}}}}}}"
      ]
     },
     "execution_count": 5,
     "metadata": {},
     "output_type": "execute_result"
    }
   ],
   "source": [
    "cml.get_elasticsearch_reindex_status()"
   ]
  },
  {
   "cell_type": "markdown",
   "id": "8410f785-8bec-4247-9004-cd3ef20bc393",
   "metadata": {},
   "source": [
    "## Update ElasticSearch Index"
   ]
  },
  {
   "cell_type": "code",
   "execution_count": 6,
   "id": "f4e278e1-a428-426b-8989-27629d8c080c",
   "metadata": {},
   "outputs": [],
   "source": [
    "new_index_definition={\n",
    "    \"currentIndex\": \"\",\n",
    "    \"newIndex\": \"\"\n",
    "}"
   ]
  },
  {
   "cell_type": "code",
   "execution_count": 7,
   "id": "5ca80778-10bd-4748-99ef-1dbb05871a92",
   "metadata": {},
   "outputs": [],
   "source": [
    "cml.update_elasticsearch_index(data=new_index_definition)"
   ]
  },
  {
   "cell_type": "markdown",
   "id": "53508b48-51af-44e3-8ca4-6762afc7dfcc",
   "metadata": {},
   "source": [
    "## Reindex ElasticSearch From Database"
   ]
  },
  {
   "cell_type": "code",
   "execution_count": 8,
   "id": "dd6c1d2f-2b0b-40f0-8bbd-ccacffbcc411",
   "metadata": {},
   "outputs": [],
   "source": [
    "db_reindex_definition={\n",
    "     \"indexName\": \"test-recovery-index\"\n",
    "}"
   ]
  },
  {
   "cell_type": "code",
   "execution_count": 9,
   "id": "37a8d42d-3b29-43b3-84a8-e46882b9556e",
   "metadata": {},
   "outputs": [],
   "source": [
    "cml.reindex_elasticsearh_from_database(data=db_reindex_definition)"
   ]
  },
  {
   "cell_type": "markdown",
   "id": "ec858f33-e7e5-41bd-87d8-d11628ebb915",
   "metadata": {},
   "source": [
    "## Get Elasticsearch Indices Info"
   ]
  },
  {
   "cell_type": "code",
   "execution_count": 10,
   "id": "8e4ed179-c515-4664-b51b-6e2a3a4a3e51",
   "metadata": {},
   "outputs": [
    {
     "data": {
      "text/plain": [
       "{'body': 'yellow open cumulus ez88Tw9FRQqmYFSZEmxTgQ 2 1 63 4   1mb   1mb\\nyellow open .kibana V0YC-TvFTMaFVGX0BHOo9A 1 1  1 0 3.1kb 3.1kb\\n',\n",
       " 'statusCode': 200,\n",
       " 'headers': {'date': 'Wed, 27 Oct 2021 18:28:18 GMT',\n",
       "  'content-type': 'text/plain;charset=UTF-8',\n",
       "  'content-length': '128',\n",
       "  'connection': 'keep-alive',\n",
       "  'access-control-allow-origin': '*'},\n",
       " 'warnings': None,\n",
       " 'meta': {'context': None,\n",
       "  'request': {'params': {'method': 'GET',\n",
       "    'path': '/_cat/indices',\n",
       "    'body': None,\n",
       "    'querystring': '',\n",
       "    'headers': {'User-Agent': 'elasticsearch-js/5.6.22 (linux 4.14.246-198.474.amzn2.x86_64-x64; Node.js v12.22.4)'},\n",
       "    'timeout': 50000},\n",
       "   'options': {'warnings': None},\n",
       "   'id': 1},\n",
       "  'name': 'elasticsearch-js',\n",
       "  'connection': {'url': 'https://vpc-sharedsbx-es-vpc-cq7ruzdrhcggshxotugmwbcv6a.us-west-2.es.amazonaws.com/',\n",
       "   'id': 'https://vpc-sharedsbx-es-vpc-cq7ruzdrhcggshxotugmwbcv6a.us-west-2.es.amazonaws.com/',\n",
       "   'headers': None,\n",
       "   'deadCount': 0,\n",
       "   'resurrectTimeout': 0,\n",
       "   '_openRequests': 0,\n",
       "   'status': 'alive',\n",
       "   'roles': {'master': True, 'data': True, 'ingest': True, 'ml': False}},\n",
       "  'attempts': 0,\n",
       "  'aborted': False}}"
      ]
     },
     "execution_count": 10,
     "metadata": {},
     "output_type": "execute_result"
    }
   ],
   "source": [
    "cml.get_elasticsearch_indices_info()"
   ]
  },
  {
   "cell_type": "markdown",
   "id": "e21be2fe-48d2-443b-9535-7b3c4f93c045",
   "metadata": {},
   "source": [
    "## Get Current Elasticsearch Index"
   ]
  },
  {
   "cell_type": "code",
   "execution_count": 11,
   "id": "8cda9d58-6c26-499c-988d-e47ffb8ee29e",
   "metadata": {},
   "outputs": [
    {
     "data": {
      "text/plain": [
       "['cumulus']"
      ]
     },
     "execution_count": 11,
     "metadata": {},
     "output_type": "execute_result"
    }
   ],
   "source": [
    "cml.get_elasticsearch_index()"
   ]
  }
 ],
 "metadata": {
  "kernelspec": {
   "display_name": "Python 3 (ipykernel)",
   "language": "python",
   "name": "python3"
  },
  "language_info": {
   "codemirror_mode": {
    "name": "ipython",
    "version": 3
   },
   "file_extension": ".py",
   "mimetype": "text/x-python",
   "name": "python",
   "nbconvert_exporter": "python",
   "pygments_lexer": "ipython3",
   "version": "3.7.10"
  }
 },
 "nbformat": 4,
 "nbformat_minor": 5
}
