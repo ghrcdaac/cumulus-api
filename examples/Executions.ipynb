{
 "cells": [
  {
   "cell_type": "markdown",
   "id": "9ac37aa0-7ee0-4eab-952d-265b82d52269",
   "metadata": {},
   "source": [
    "## Import Package"
   ]
  },
  {
   "cell_type": "code",
   "execution_count": 1,
   "id": "e75ddc63-9db3-4455-a3de-c8358b230670",
   "metadata": {},
   "outputs": [],
   "source": [
    "from cumulus_api import CumulusApi"
   ]
  },
  {
   "cell_type": "markdown",
   "id": "a366c6b2-535d-4714-b2c2-7ac92f9aec8f",
   "metadata": {},
   "source": [
    "## Initialize Cumulus API Class"
   ]
  },
  {
   "cell_type": "code",
   "execution_count": 2,
   "id": "47243600-d0eb-4cf3-9a0c-499add869e5b",
   "metadata": {},
   "outputs": [],
   "source": [
    "cml = CumulusApi()"
   ]
  },
  {
   "cell_type": "markdown",
   "id": "dc12627b-61f6-4d1e-9145-32b3cae364d8",
   "metadata": {},
   "source": [
    "## List Executions"
   ]
  },
  {
   "cell_type": "code",
   "execution_count": 3,
   "id": "a6cf4221-2e78-4565-8209-a339c365d171",
   "metadata": {},
   "outputs": [
    {
     "data": {
      "text/plain": [
       "{'meta': {'name': 'cumulus-api',\n",
       "  'stack': 'sharedsbx',\n",
       "  'table': 'execution',\n",
       "  'limit': 1,\n",
       "  'page': 1,\n",
       "  'count': 47},\n",
       " 'results': [{'execution': 'https://console.aws.amazon.com/states/home?region=us-west-2#/executions/details/arn:aws:states:us-west-2:xxxxxxxxxxxx:execution:sharedsbx-HelloWorldWorkflow:b5f79496-e3c0-4ecb-a88f-1b61ee210eb2',\n",
       "   'originalPayload': {},\n",
       "   'error': {},\n",
       "   'type': 'HelloWorldWorkflow',\n",
       "   'cumulusVersion': '9.8.0',\n",
       "   'duration': 3.324,\n",
       "   'createdAt': 1635362254686,\n",
       "   'name': 'b5f79496-e3c0-4ecb-a88f-1b61ee210eb2',\n",
       "   'arn': 'arn:aws:states:us-west-2:xxxxxxxxxxxx:execution:sharedsbx-HelloWorldWorkflow:b5f79496-e3c0-4ecb-a88f-1b61ee210eb2',\n",
       "   'collectionId': 'aces1trig___1',\n",
       "   'finalPayload': {'hello': 'Hello World'},\n",
       "   'tasks': {'HelloWorld': {'name': 'sharedsbx-HelloWorld',\n",
       "     'arn': 'arn:aws:lambda:us-west-2:xxxxxxxxxxxx:function:sharedsbx-HelloWorld',\n",
       "     'version': '$LATEST'}},\n",
       "   'status': 'completed',\n",
       "   'timestamp': 1635362262507,\n",
       "   'updatedAt': 1635362261829}]}"
      ]
     },
     "execution_count": 3,
     "metadata": {},
     "output_type": "execute_result"
    }
   ],
   "source": [
    "cml.list_executions(limit=1)"
   ]
  },
  {
   "cell_type": "markdown",
   "id": "66412813-8198-4713-8fad-597f7d07657f",
   "metadata": {
    "tags": []
   },
   "source": [
    "## Get Execution"
   ]
  },
  {
   "cell_type": "code",
   "execution_count": 4,
   "id": "f19c12ad-d101-485a-94af-91c22752b5a7",
   "metadata": {},
   "outputs": [
    {
     "data": {
      "text/plain": [
       "{'status': 'completed',\n",
       " 'timestamp': 1635360144519,\n",
       " 'tasks': {'MoveGranuleStep': {'name': 'sharedsbx-MoveGranules',\n",
       "   'arn': 'arn:aws:lambda:us-west-2:xxxxxxxxxxxx:function:sharedsbx-MoveGranules',\n",
       "   'version': '$LATEST'},\n",
       "  'PostToCMR': {'name': 'sharedsbx-PostToCmr',\n",
       "   'arn': 'arn:aws:lambda:us-west-2:xxxxxxxxxxxx:function:sharedsbx-PostToCmr',\n",
       "   'version': '$LATEST'},\n",
       "  'SyncGranule': {'name': 'sharedsbx-SyncGranule',\n",
       "   'arn': 'arn:aws:lambda:us-west-2:xxxxxxxxxxxx:function:sharedsbx-SyncGranule',\n",
       "   'version': '$LATEST'},\n",
       "  'UpdateMetadataLinks': {'name': 'sharedsbx-UpdateGranulesCmrMetadataFileLinks',\n",
       "   'arn': 'arn:aws:lambda:us-west-2:xxxxxxxxxxxx:function:sharedsbx-UpdateGranulesCmrMetadataFileLinks',\n",
       "   'version': '$LATEST'}},\n",
       " 'createdAt': 1635360104486,\n",
       " 'cumulusVersion': '9.8.0',\n",
       " 'name': 'aces1trig-00c6f2db-7fcd-49c5-9122-3107fe0702cd',\n",
       " 'finalPayload': {'granules': [{'cmrLink': 'https://cmr.uat.earthdata.nasa.gov/search/concepts/G1241305553-GHRC_CDEV.umm_json',\n",
       "    'granuleId': 'aces1trig_2002.241_v2.50.tar',\n",
       "    'post_to_cmr_duration': 17655,\n",
       "    'files': [{'bucket': 'sharedsbx-protected',\n",
       "      'path': 'mdx_staging/',\n",
       "      'filename': 's3://sharedsbx-protected/aces1trig__1/aces1trig_2002.241_v2.50.tar',\n",
       "      'size': 48390000,\n",
       "      'filepath': 'aces1trig__1/aces1trig_2002.241_v2.50.tar',\n",
       "      'name': 'aces1trig_2002.241_v2.50.tar',\n",
       "      'url_path': 'aces1trig__1'},\n",
       "     {'bucket': 'sharedsbx-public',\n",
       "      'path': 'mdx_staging/',\n",
       "      'filename': 's3://sharedsbx-public/aces1trig__1/aces1trig_2002.241_v2.50.tar.cmr.json',\n",
       "      'size': 1946,\n",
       "      'filepath': 'aces1trig__1/aces1trig_2002.241_v2.50.tar.cmr.json',\n",
       "      'name': 'aces1trig_2002.241_v2.50.tar.cmr.json',\n",
       "      'etag': '\"171bcdc05009a6896150db3e2b016375\"',\n",
       "      'type': 'metadata',\n",
       "      'url_path': 'aces1trig__1'}],\n",
       "    'cmrMetadataFormat': 'umm_json_v1_6_2',\n",
       "    'published': True,\n",
       "    'cmrConceptId': 'G1241305553-GHRC_CDEV'}]},\n",
       " 'originalPayload': {'granules': [{'files': [{'bucket': 'sharedsbx-protected',\n",
       "      'path': 'aces1trig/fieldCampaigns/aces/triggered/data',\n",
       "      'size': 48394240,\n",
       "      'name': 'aces1trig_2002.241_v2.50.tar',\n",
       "      'time': 1635359901000,\n",
       "      'type': None,\n",
       "      'url_path': 'aces1trig__1'}],\n",
       "    'granuleId': 'aces1trig_2002.241_v2.50.tar',\n",
       "    'version': '1',\n",
       "    'dataType': 'aces1trig'}]},\n",
       " 'execution': 'https://console.aws.amazon.com/states/home?region=us-west-2#/executions/details/arn:aws:states:us-west-2:xxxxxxxxxxxx:execution:sharedsbx-IngestGranule:aces1trig-00c6f2db-7fcd-49c5-9122-3107fe0702cd',\n",
       " 'updatedAt': 1635360144519,\n",
       " 'arn': 'arn:aws:states:us-west-2:xxxxxxxxxxxx:execution:sharedsbx-IngestGranule:aces1trig-00c6f2db-7fcd-49c5-9122-3107fe0702cd',\n",
       " 'collectionId': 'aces1trig___1',\n",
       " 'duration': 39.432,\n",
       " 'parentArn': 'arn:aws:states:us-west-2:xxxxxxxxxxxx:execution:sharedsbx-DiscoverGranules:33ff1f3d-a21f-4a92-9a2b-d47b6d2b60c2',\n",
       " 'error': {},\n",
       " 'type': 'IngestGranule'}"
      ]
     },
     "execution_count": 4,
     "metadata": {},
     "output_type": "execute_result"
    }
   ],
   "source": [
    "cml.get_execution(execution_arn=\"arn:aws:states:us-west-2:xxxxxxxxxxxx:execution:sharedsbx-IngestGranule:aces1trig-00c6f2db-7fcd-49c5-9122-3107fe0702cd\")"
   ]
  },
  {
   "cell_type": "markdown",
   "id": "24bc815e-23d7-41e2-bd08-dd7d9b150171",
   "metadata": {},
   "source": [
    "## Get Execution Status"
   ]
  },
  {
   "cell_type": "code",
   "execution_count": 5,
   "id": "b31797e3-3344-40d8-a3b9-aad19c057835",
   "metadata": {
    "scrolled": true,
    "tags": []
   },
   "outputs": [
    {
     "data": {
      "text/plain": [
       "{'execution': {'executionArn': 'arn:aws:states:us-west-2:xxxxxxxxxxxx:execution:sharedsbx-HelloWorldWorkflow:32af4b68-450e-482b-bd7a-950c95230464',\n",
       "  'stateMachineArn': 'arn:aws:states:us-west-2:xxxxxxxxxxxx:stateMachine:sharedsbx-HelloWorldWorkflow',\n",
       "  'name': '32af4b68-450e-482b-bd7a-950c95230464',\n",
       "  'status': 'SUCCEEDED',\n",
       "  'startDate': '2021-10-27T18:25:49.061Z',\n",
       "  'stopDate': '2021-10-27T18:25:50.631Z',\n",
       "  'input': '{\"cumulus_meta\":{\"cumulus_version\":\"9.8.0\",\"execution_name\":\"32af4b68-450e-482b-bd7a-950c95230464\",\"message_source\":\"sfn\",\"queueExecutionLimits\":{\"https://sqs.us-west-2.amazonaws.com/xxxxxxxxxxxx/sharedsbx-backgroundJobQueue\":900,\"https://sqs.us-west-2.amazonaws.com/xxxxxxxxxxxx/sharedsbx-backgroundProcessing\":5,\"https://sqs.us-west-2.amazonaws.com/xxxxxxxxxxxx/sharedsbx-near-real-time\":900,\"https://sqs.us-west-2.amazonaws.com/xxxxxxxxxxxx/sharedsbx-ongoing\":900},\"state_machine\":\"arn:aws:states:us-west-2:xxxxxxxxxxxx:stateMachine:sharedsbx-HelloWorldWorkflow\",\"system_bucket\":\"sharedsbx-internal\",\"workflow_start_time\":1635359148945,\"asyncOperationId\":\"21518142-4514-40dc-bfc2-d8723c1738ac\",\"queueUrl\":\"arn:aws:sqs:us-west-2:xxxxxxxxxxxx:sharedsbx-startSF\"},\"exception\":null,\"meta\":{\"buckets\":{\"dashboard\":{\"name\":\"sharedsbx-dashboard\",\"type\":\"public\"},\"internal\":{\"name\":\"sharedsbx-internal\",\"type\":\"internal\"},\"orca_default\":{\"name\":\"sharedsbx-orca-glacier-archive\",\"type\":\"orca\"},\"private\":{\"name\":\"sharedsbx-private\",\"type\":\"private\"},\"protected\":{\"name\":\"sharedsbx-protected\",\"type\":\"protected\"},\"public\":{\"name\":\"sharedsbx-public\",\"type\":\"public\"},\"sharedprivate\":{\"name\":\"ghrcw-private\",\"type\":\"sharedprivate\"}},\"cmr\":{\"clientId\":\"ghrc_cdev\",\"cmrEnvironment\":\"UAT\",\"cmrLimit\":100,\"cmrPageSize\":50,\"oauthProvider\":\"earthdata\",\"passwordSecretName\":\"sharedsbx-message-template-cmr-password20211016220657114700000003\",\"provider\":\"GHRC_CDEV\",\"username\":\"ghrc_cdev\"},\"collection\":{\"process\":\"metadataextractor\",\"granuleIdExtraction\":\"^((aces1trig).*)\",\"version\":\"1\",\"meta\":{\"hyrax_processing\":\"false\",\"granuleRecoveryWorkflow\":\"OrcaRecoveryWorkflow\",\"excludeFileTypes\":[\".cmr.json\"],\"provider_path\":\"aces1trig/fieldCampaigns/aces/triggered/data/\",\"metadata_extractor\":[{\"regex\":\"^(.*)\\\\\\\\.(tar)$\",\"module\":\"legacy\"}]},\"createdAt\":1634748011826,\"name\":\"aces1trig\",\"duplicateHandling\":\"replace\",\"files\":[{\"bucket\":\"public\",\"regex\":\"^aces1trig(.*)\\\\\\\\.cmr\\\\\\\\.(xml|json)$\",\"reportToEms\":true,\"sampleFileName\":\"aces1trig_2002.191_v2.50.tar.cmr.xml\"},{\"bucket\":\"protected\",\"regex\":\"^aces1trig_(.*)(tar)$\",\"reportToEms\":true,\"sampleFileName\":\"aces1trig_2002.191_v2.50.tar\"}],\"updatedAt\":1634851544930,\"url_path\":\"aces1trig__1\",\"reportToEms\":true,\"granuleId\":\"^aces1trig(.*)_v2\\\\\\\\.50\\\\\\\\.(tar)$\",\"sampleFileName\":\"aces1trig_2002.191_v2.50.tar\"},\"distribution_endpoint\":\"https://wcj5mpq9sd.execute-api.us-west-2.amazonaws.com:7000/dev/\",\"launchpad\":{\"api\":\"https://api.launchpad.nasa.gov/icam/api/sm/v1\",\"certificate\":\"launchpad.pfx\",\"passphraseSecretName\":\"\"},\"provider\":{\"createdAt\":1634748290011,\"id\":\"private_bucket\",\"host\":\"sharedsbx-private\",\"updatedAt\":1634748290011,\"protocol\":\"s3\"},\"stack\":\"sharedsbx\",\"template\":\"s3://sharedsbx-internal/sharedsbx/workflow_template.json\",\"workflow_name\":\"HelloWorldWorkflow\",\"workflow_tasks\":{}},\"payload\":{\"granules\":[{\"published\":true,\"endingDateTime\":\"2002-07-12T23:59:00Z\",\"status\":\"queued\",\"timestamp\":1634852183356,\"createdAt\":1634852144343,\"processingEndDateTime\":\"2021-10-21T21:36:22.749Z\",\"productVolume\":208271947,\"timeToPreprocess\":0,\"timeToArchive\":6.057,\"productionDateTime\":\"2021-10-21T21:35:58Z\",\"cmrLink\":\"https://cmr.uat.earthdata.nasa.gov/search/concepts/G1241305554-GHRC_CDEV.umm_json\",\"files\":[{\"bucket\":\"sharedsbx-protected\",\"key\":\"aces1trig__1/aces1trig_2002.193_v2.50.tar\",\"size\":208270000,\"fileName\":\"aces1trig_2002.193_v2.50.tar\",\"source\":\"s3://sharedsbx-private/mdx_staging/aces1trig_2002.193_v2.50.tar\"},{\"bucket\":\"sharedsbx-public\",\"key\":\"aces1trig__1/aces1trig_2002.193_v2.50.tar.cmr.json\",\"size\":1947,\"fileName\":\"aces1trig_2002.193_v2.50.tar.cmr.json\",\"source\":\"s3://sharedsbx-private/mdx_staging/aces1trig_2002.193_v2.50.tar.cmr.json\",\"type\":\"metadata\"}],\"processingStartDateTime\":\"2021-10-21T21:35:44.409Z\",\"updatedAt\":1635359132166,\"beginningDateTime\":\"2002-07-12T00:00:00Z\",\"provider\":\"private_bucket\",\"granuleId\":\"aces1trig_2002.193_v2.50.tar\",\"collectionId\":\"aces1trig___1\",\"duration\":39.013,\"error\":{},\"lastUpdateDateTime\":\"2021-10-21T21:35:58Z\"}]}}',\n",
       "  'inputDetails': {'included': True},\n",
       "  'output': '{\"cumulus_meta\":{\"cumulus_version\":\"9.8.0\",\"execution_name\":\"32af4b68-450e-482b-bd7a-950c95230464\",\"message_source\":\"sfn\",\"queueExecutionLimits\":{\"https://sqs.us-west-2.amazonaws.com/xxxxxxxxxxxx/sharedsbx-backgroundJobQueue\":900,\"https://sqs.us-west-2.amazonaws.com/xxxxxxxxxxxx/sharedsbx-backgroundProcessing\":5,\"https://sqs.us-west-2.amazonaws.com/xxxxxxxxxxxx/sharedsbx-near-real-time\":900,\"https://sqs.us-west-2.amazonaws.com/xxxxxxxxxxxx/sharedsbx-ongoing\":900},\"state_machine\":\"arn:aws:states:us-west-2:xxxxxxxxxxxx:stateMachine:sharedsbx-HelloWorldWorkflow\",\"system_bucket\":\"sharedsbx-internal\",\"workflow_start_time\":1635359148945,\"asyncOperationId\":\"21518142-4514-40dc-bfc2-d8723c1738ac\",\"queueUrl\":\"arn:aws:sqs:us-west-2:xxxxxxxxxxxx:sharedsbx-startSF\"},\"exception\":\"None\",\"meta\":{\"buckets\":{\"dashboard\":{\"name\":\"sharedsbx-dashboard\",\"type\":\"public\"},\"internal\":{\"name\":\"sharedsbx-internal\",\"type\":\"internal\"},\"orca_default\":{\"name\":\"sharedsbx-orca-glacier-archive\",\"type\":\"orca\"},\"private\":{\"name\":\"sharedsbx-private\",\"type\":\"private\"},\"protected\":{\"name\":\"sharedsbx-protected\",\"type\":\"protected\"},\"public\":{\"name\":\"sharedsbx-public\",\"type\":\"public\"},\"sharedprivate\":{\"name\":\"ghrcw-private\",\"type\":\"sharedprivate\"}},\"cmr\":{\"clientId\":\"ghrc_cdev\",\"cmrEnvironment\":\"UAT\",\"cmrLimit\":100,\"cmrPageSize\":50,\"oauthProvider\":\"earthdata\",\"passwordSecretName\":\"sharedsbx-message-template-cmr-password20211016220657114700000003\",\"provider\":\"GHRC_CDEV\",\"username\":\"ghrc_cdev\"},\"collection\":{\"process\":\"metadataextractor\",\"granuleIdExtraction\":\"^((aces1trig).*)\",\"version\":\"1\",\"meta\":{\"hyrax_processing\":\"false\",\"granuleRecoveryWorkflow\":\"OrcaRecoveryWorkflow\",\"excludeFileTypes\":[\".cmr.json\"],\"provider_path\":\"aces1trig/fieldCampaigns/aces/triggered/data/\",\"metadata_extractor\":[{\"regex\":\"^(.*)\\\\\\\\.(tar)$\",\"module\":\"legacy\"}]},\"createdAt\":1634748011826,\"name\":\"aces1trig\",\"duplicateHandling\":\"replace\",\"files\":[{\"bucket\":\"public\",\"regex\":\"^aces1trig(.*)\\\\\\\\.cmr\\\\\\\\.(xml|json)$\",\"reportToEms\":true,\"sampleFileName\":\"aces1trig_2002.191_v2.50.tar.cmr.xml\"},{\"bucket\":\"protected\",\"regex\":\"^aces1trig_(.*)(tar)$\",\"reportToEms\":true,\"sampleFileName\":\"aces1trig_2002.191_v2.50.tar\"}],\"updatedAt\":1634851544930,\"url_path\":\"aces1trig__1\",\"reportToEms\":true,\"granuleId\":\"^aces1trig(.*)_v2\\\\\\\\.50\\\\\\\\.(tar)$\",\"sampleFileName\":\"aces1trig_2002.191_v2.50.tar\"},\"distribution_endpoint\":\"https://wcj5mpq9sd.execute-api.us-west-2.amazonaws.com:7000/dev/\",\"launchpad\":{\"api\":\"https://api.launchpad.nasa.gov/icam/api/sm/v1\",\"certificate\":\"launchpad.pfx\",\"passphraseSecretName\":\"\"},\"provider\":{\"createdAt\":1634748290011,\"id\":\"private_bucket\",\"host\":\"sharedsbx-private\",\"updatedAt\":1634748290011,\"protocol\":\"s3\"},\"stack\":\"sharedsbx\",\"template\":\"s3://sharedsbx-internal/sharedsbx/workflow_template.json\",\"workflow_name\":\"HelloWorldWorkflow\",\"workflow_tasks\":{\"HelloWorld\":{\"name\":\"sharedsbx-HelloWorld\",\"version\":\"$LATEST\",\"arn\":\"arn:aws:lambda:us-west-2:xxxxxxxxxxxx:function:sharedsbx-HelloWorld\"}}},\"payload\":{\"hello\":\"Hello World\"},\"task_config\":{\"buckets\":\"{$.meta.buckets}\",\"provider\":\"{$.meta.provider}\",\"collection\":\"{$.meta.collection}\"}}',\n",
       "  'outputDetails': {'included': True}},\n",
       " 'executionHistory': {'events': [{'timestamp': '2021-10-27T18:25:49.061Z',\n",
       "    'type': 'ExecutionStarted',\n",
       "    'id': 1,\n",
       "    'previousEventId': 0,\n",
       "    'input': '{\"cumulus_meta\":{\"cumulus_version\":\"9.8.0\",\"execution_name\":\"32af4b68-450e-482b-bd7a-950c95230464\",\"message_source\":\"sfn\",\"queueExecutionLimits\":{\"https://sqs.us-west-2.amazonaws.com/xxxxxxxxxxxx/sharedsbx-backgroundJobQueue\":900,\"https://sqs.us-west-2.amazonaws.com/xxxxxxxxxxxx/sharedsbx-backgroundProcessing\":5,\"https://sqs.us-west-2.amazonaws.com/xxxxxxxxxxxx/sharedsbx-near-real-time\":900,\"https://sqs.us-west-2.amazonaws.com/xxxxxxxxxxxx/sharedsbx-ongoing\":900},\"state_machine\":\"arn:aws:states:us-west-2:xxxxxxxxxxxx:stateMachine:sharedsbx-HelloWorldWorkflow\",\"system_bucket\":\"sharedsbx-internal\",\"workflow_start_time\":1635359148945,\"asyncOperationId\":\"21518142-4514-40dc-bfc2-d8723c1738ac\",\"queueUrl\":\"arn:aws:sqs:us-west-2:xxxxxxxxxxxx:sharedsbx-startSF\"},\"exception\":null,\"meta\":{\"buckets\":{\"dashboard\":{\"name\":\"sharedsbx-dashboard\",\"type\":\"public\"},\"internal\":{\"name\":\"sharedsbx-internal\",\"type\":\"internal\"},\"orca_default\":{\"name\":\"sharedsbx-orca-glacier-archive\",\"type\":\"orca\"},\"private\":{\"name\":\"sharedsbx-private\",\"type\":\"private\"},\"protected\":{\"name\":\"sharedsbx-protected\",\"type\":\"protected\"},\"public\":{\"name\":\"sharedsbx-public\",\"type\":\"public\"},\"sharedprivate\":{\"name\":\"ghrcw-private\",\"type\":\"sharedprivate\"}},\"cmr\":{\"clientId\":\"ghrc_cdev\",\"cmrEnvironment\":\"UAT\",\"cmrLimit\":100,\"cmrPageSize\":50,\"oauthProvider\":\"earthdata\",\"passwordSecretName\":\"sharedsbx-message-template-cmr-password20211016220657114700000003\",\"provider\":\"GHRC_CDEV\",\"username\":\"ghrc_cdev\"},\"collection\":{\"process\":\"metadataextractor\",\"granuleIdExtraction\":\"^((aces1trig).*)\",\"version\":\"1\",\"meta\":{\"hyrax_processing\":\"false\",\"granuleRecoveryWorkflow\":\"OrcaRecoveryWorkflow\",\"excludeFileTypes\":[\".cmr.json\"],\"provider_path\":\"aces1trig/fieldCampaigns/aces/triggered/data/\",\"metadata_extractor\":[{\"regex\":\"^(.*)\\\\\\\\.(tar)$\",\"module\":\"legacy\"}]},\"createdAt\":1634748011826,\"name\":\"aces1trig\",\"duplicateHandling\":\"replace\",\"files\":[{\"bucket\":\"public\",\"regex\":\"^aces1trig(.*)\\\\\\\\.cmr\\\\\\\\.(xml|json)$\",\"reportToEms\":true,\"sampleFileName\":\"aces1trig_2002.191_v2.50.tar.cmr.xml\"},{\"bucket\":\"protected\",\"regex\":\"^aces1trig_(.*)(tar)$\",\"reportToEms\":true,\"sampleFileName\":\"aces1trig_2002.191_v2.50.tar\"}],\"updatedAt\":1634851544930,\"url_path\":\"aces1trig__1\",\"reportToEms\":true,\"granuleId\":\"^aces1trig(.*)_v2\\\\\\\\.50\\\\\\\\.(tar)$\",\"sampleFileName\":\"aces1trig_2002.191_v2.50.tar\"},\"distribution_endpoint\":\"https://wcj5mpq9sd.execute-api.us-west-2.amazonaws.com:7000/dev/\",\"launchpad\":{\"api\":\"https://api.launchpad.nasa.gov/icam/api/sm/v1\",\"certificate\":\"launchpad.pfx\",\"passphraseSecretName\":\"\"},\"provider\":{\"createdAt\":1634748290011,\"id\":\"private_bucket\",\"host\":\"sharedsbx-private\",\"updatedAt\":1634748290011,\"protocol\":\"s3\"},\"stack\":\"sharedsbx\",\"template\":\"s3://sharedsbx-internal/sharedsbx/workflow_template.json\",\"workflow_name\":\"HelloWorldWorkflow\",\"workflow_tasks\":{}},\"payload\":{\"granules\":[{\"published\":true,\"endingDateTime\":\"2002-07-12T23:59:00Z\",\"status\":\"queued\",\"timestamp\":1634852183356,\"createdAt\":1634852144343,\"processingEndDateTime\":\"2021-10-21T21:36:22.749Z\",\"productVolume\":208271947,\"timeToPreprocess\":0,\"timeToArchive\":6.057,\"productionDateTime\":\"2021-10-21T21:35:58Z\",\"cmrLink\":\"https://cmr.uat.earthdata.nasa.gov/search/concepts/G1241305554-GHRC_CDEV.umm_json\",\"files\":[{\"bucket\":\"sharedsbx-protected\",\"key\":\"aces1trig__1/aces1trig_2002.193_v2.50.tar\",\"size\":208270000,\"fileName\":\"aces1trig_2002.193_v2.50.tar\",\"source\":\"s3://sharedsbx-private/mdx_staging/aces1trig_2002.193_v2.50.tar\"},{\"bucket\":\"sharedsbx-public\",\"key\":\"aces1trig__1/aces1trig_2002.193_v2.50.tar.cmr.json\",\"size\":1947,\"fileName\":\"aces1trig_2002.193_v2.50.tar.cmr.json\",\"source\":\"s3://sharedsbx-private/mdx_staging/aces1trig_2002.193_v2.50.tar.cmr.json\",\"type\":\"metadata\"}],\"processingStartDateTime\":\"2021-10-21T21:35:44.409Z\",\"updatedAt\":1635359132166,\"beginningDateTime\":\"2002-07-12T00:00:00Z\",\"provider\":\"private_bucket\",\"granuleId\":\"aces1trig_2002.193_v2.50.tar\",\"collectionId\":\"aces1trig___1\",\"duration\":39.013,\"error\":{},\"lastUpdateDateTime\":\"2021-10-21T21:35:58Z\"}]}}',\n",
       "    'inputDetails': {'truncated': False},\n",
       "    'roleArn': 'arn:aws:iam::xxxxxxxxxxxx:role/sharedsbx-steprole'},\n",
       "   {'timestamp': '2021-10-27T18:25:49.087Z',\n",
       "    'type': 'TaskStateEntered',\n",
       "    'id': 2,\n",
       "    'previousEventId': 0,\n",
       "    'name': 'HelloWorld',\n",
       "    'input': '{\"cumulus_meta\":{\"cumulus_version\":\"9.8.0\",\"execution_name\":\"32af4b68-450e-482b-bd7a-950c95230464\",\"message_source\":\"sfn\",\"queueExecutionLimits\":{\"https://sqs.us-west-2.amazonaws.com/xxxxxxxxxxxx/sharedsbx-backgroundJobQueue\":900,\"https://sqs.us-west-2.amazonaws.com/xxxxxxxxxxxx/sharedsbx-backgroundProcessing\":5,\"https://sqs.us-west-2.amazonaws.com/xxxxxxxxxxxx/sharedsbx-near-real-time\":900,\"https://sqs.us-west-2.amazonaws.com/xxxxxxxxxxxx/sharedsbx-ongoing\":900},\"state_machine\":\"arn:aws:states:us-west-2:xxxxxxxxxxxx:stateMachine:sharedsbx-HelloWorldWorkflow\",\"system_bucket\":\"sharedsbx-internal\",\"workflow_start_time\":1635359148945,\"asyncOperationId\":\"21518142-4514-40dc-bfc2-d8723c1738ac\",\"queueUrl\":\"arn:aws:sqs:us-west-2:xxxxxxxxxxxx:sharedsbx-startSF\"},\"exception\":null,\"meta\":{\"buckets\":{\"dashboard\":{\"name\":\"sharedsbx-dashboard\",\"type\":\"public\"},\"internal\":{\"name\":\"sharedsbx-internal\",\"type\":\"internal\"},\"orca_default\":{\"name\":\"sharedsbx-orca-glacier-archive\",\"type\":\"orca\"},\"private\":{\"name\":\"sharedsbx-private\",\"type\":\"private\"},\"protected\":{\"name\":\"sharedsbx-protected\",\"type\":\"protected\"},\"public\":{\"name\":\"sharedsbx-public\",\"type\":\"public\"},\"sharedprivate\":{\"name\":\"ghrcw-private\",\"type\":\"sharedprivate\"}},\"cmr\":{\"clientId\":\"ghrc_cdev\",\"cmrEnvironment\":\"UAT\",\"cmrLimit\":100,\"cmrPageSize\":50,\"oauthProvider\":\"earthdata\",\"passwordSecretName\":\"sharedsbx-message-template-cmr-password20211016220657114700000003\",\"provider\":\"GHRC_CDEV\",\"username\":\"ghrc_cdev\"},\"collection\":{\"process\":\"metadataextractor\",\"granuleIdExtraction\":\"^((aces1trig).*)\",\"version\":\"1\",\"meta\":{\"hyrax_processing\":\"false\",\"granuleRecoveryWorkflow\":\"OrcaRecoveryWorkflow\",\"excludeFileTypes\":[\".cmr.json\"],\"provider_path\":\"aces1trig/fieldCampaigns/aces/triggered/data/\",\"metadata_extractor\":[{\"regex\":\"^(.*)\\\\\\\\.(tar)$\",\"module\":\"legacy\"}]},\"createdAt\":1634748011826,\"name\":\"aces1trig\",\"duplicateHandling\":\"replace\",\"files\":[{\"bucket\":\"public\",\"regex\":\"^aces1trig(.*)\\\\\\\\.cmr\\\\\\\\.(xml|json)$\",\"reportToEms\":true,\"sampleFileName\":\"aces1trig_2002.191_v2.50.tar.cmr.xml\"},{\"bucket\":\"protected\",\"regex\":\"^aces1trig_(.*)(tar)$\",\"reportToEms\":true,\"sampleFileName\":\"aces1trig_2002.191_v2.50.tar\"}],\"updatedAt\":1634851544930,\"url_path\":\"aces1trig__1\",\"reportToEms\":true,\"granuleId\":\"^aces1trig(.*)_v2\\\\\\\\.50\\\\\\\\.(tar)$\",\"sampleFileName\":\"aces1trig_2002.191_v2.50.tar\"},\"distribution_endpoint\":\"https://wcj5mpq9sd.execute-api.us-west-2.amazonaws.com:7000/dev/\",\"launchpad\":{\"api\":\"https://api.launchpad.nasa.gov/icam/api/sm/v1\",\"certificate\":\"launchpad.pfx\",\"passphraseSecretName\":\"\"},\"provider\":{\"createdAt\":1634748290011,\"id\":\"private_bucket\",\"host\":\"sharedsbx-private\",\"updatedAt\":1634748290011,\"protocol\":\"s3\"},\"stack\":\"sharedsbx\",\"template\":\"s3://sharedsbx-internal/sharedsbx/workflow_template.json\",\"workflow_name\":\"HelloWorldWorkflow\",\"workflow_tasks\":{}},\"payload\":{\"granules\":[{\"published\":true,\"endingDateTime\":\"2002-07-12T23:59:00Z\",\"status\":\"queued\",\"timestamp\":1634852183356,\"createdAt\":1634852144343,\"processingEndDateTime\":\"2021-10-21T21:36:22.749Z\",\"productVolume\":208271947,\"timeToPreprocess\":0,\"timeToArchive\":6.057,\"productionDateTime\":\"2021-10-21T21:35:58Z\",\"cmrLink\":\"https://cmr.uat.earthdata.nasa.gov/search/concepts/G1241305554-GHRC_CDEV.umm_json\",\"files\":[{\"bucket\":\"sharedsbx-protected\",\"key\":\"aces1trig__1/aces1trig_2002.193_v2.50.tar\",\"size\":208270000,\"fileName\":\"aces1trig_2002.193_v2.50.tar\",\"source\":\"s3://sharedsbx-private/mdx_staging/aces1trig_2002.193_v2.50.tar\"},{\"bucket\":\"sharedsbx-public\",\"key\":\"aces1trig__1/aces1trig_2002.193_v2.50.tar.cmr.json\",\"size\":1947,\"fileName\":\"aces1trig_2002.193_v2.50.tar.cmr.json\",\"source\":\"s3://sharedsbx-private/mdx_staging/aces1trig_2002.193_v2.50.tar.cmr.json\",\"type\":\"metadata\"}],\"processingStartDateTime\":\"2021-10-21T21:35:44.409Z\",\"updatedAt\":1635359132166,\"beginningDateTime\":\"2002-07-12T00:00:00Z\",\"provider\":\"private_bucket\",\"granuleId\":\"aces1trig_2002.193_v2.50.tar\",\"collectionId\":\"aces1trig___1\",\"duration\":39.013,\"error\":{},\"lastUpdateDateTime\":\"2021-10-21T21:35:58Z\"}]}}',\n",
       "    'inputDetails': {'truncated': False}},\n",
       "   {'timestamp': '2021-10-27T18:25:49.087Z',\n",
       "    'type': 'LambdaFunctionScheduled',\n",
       "    'id': 3,\n",
       "    'previousEventId': 2,\n",
       "    'resource': 'arn:aws:lambda:us-west-2:xxxxxxxxxxxx:function:sharedsbx-HelloWorld',\n",
       "    'input': '{\"cma\":{\"task_config\":{\"buckets\":\"{$.meta.buckets}\",\"provider\":\"{$.meta.provider}\",\"collection\":\"{$.meta.collection}\"},\"event\":{\"cumulus_meta\":{\"cumulus_version\":\"9.8.0\",\"execution_name\":\"32af4b68-450e-482b-bd7a-950c95230464\",\"message_source\":\"sfn\",\"queueExecutionLimits\":{\"https://sqs.us-west-2.amazonaws.com/xxxxxxxxxxxx/sharedsbx-backgroundJobQueue\":900,\"https://sqs.us-west-2.amazonaws.com/xxxxxxxxxxxx/sharedsbx-backgroundProcessing\":5,\"https://sqs.us-west-2.amazonaws.com/xxxxxxxxxxxx/sharedsbx-near-real-time\":900,\"https://sqs.us-west-2.amazonaws.com/xxxxxxxxxxxx/sharedsbx-ongoing\":900},\"state_machine\":\"arn:aws:states:us-west-2:xxxxxxxxxxxx:stateMachine:sharedsbx-HelloWorldWorkflow\",\"system_bucket\":\"sharedsbx-internal\",\"workflow_start_time\":1635359148945,\"asyncOperationId\":\"21518142-4514-40dc-bfc2-d8723c1738ac\",\"queueUrl\":\"arn:aws:sqs:us-west-2:xxxxxxxxxxxx:sharedsbx-startSF\"},\"exception\":null,\"meta\":{\"buckets\":{\"dashboard\":{\"name\":\"sharedsbx-dashboard\",\"type\":\"public\"},\"internal\":{\"name\":\"sharedsbx-internal\",\"type\":\"internal\"},\"orca_default\":{\"name\":\"sharedsbx-orca-glacier-archive\",\"type\":\"orca\"},\"private\":{\"name\":\"sharedsbx-private\",\"type\":\"private\"},\"protected\":{\"name\":\"sharedsbx-protected\",\"type\":\"protected\"},\"public\":{\"name\":\"sharedsbx-public\",\"type\":\"public\"},\"sharedprivate\":{\"name\":\"ghrcw-private\",\"type\":\"sharedprivate\"}},\"cmr\":{\"clientId\":\"ghrc_cdev\",\"cmrEnvironment\":\"UAT\",\"cmrLimit\":100,\"cmrPageSize\":50,\"oauthProvider\":\"earthdata\",\"passwordSecretName\":\"sharedsbx-message-template-cmr-password20211016220657114700000003\",\"provider\":\"GHRC_CDEV\",\"username\":\"ghrc_cdev\"},\"collection\":{\"process\":\"metadataextractor\",\"granuleIdExtraction\":\"^((aces1trig).*)\",\"version\":\"1\",\"meta\":{\"hyrax_processing\":\"false\",\"granuleRecoveryWorkflow\":\"OrcaRecoveryWorkflow\",\"excludeFileTypes\":[\".cmr.json\"],\"provider_path\":\"aces1trig/fieldCampaigns/aces/triggered/data/\",\"metadata_extractor\":[{\"regex\":\"^(.*)\\\\\\\\.(tar)$\",\"module\":\"legacy\"}]},\"createdAt\":1634748011826,\"name\":\"aces1trig\",\"duplicateHandling\":\"replace\",\"files\":[{\"bucket\":\"public\",\"regex\":\"^aces1trig(.*)\\\\\\\\.cmr\\\\\\\\.(xml|json)$\",\"reportToEms\":true,\"sampleFileName\":\"aces1trig_2002.191_v2.50.tar.cmr.xml\"},{\"bucket\":\"protected\",\"regex\":\"^aces1trig_(.*)(tar)$\",\"reportToEms\":true,\"sampleFileName\":\"aces1trig_2002.191_v2.50.tar\"}],\"updatedAt\":1634851544930,\"url_path\":\"aces1trig__1\",\"reportToEms\":true,\"granuleId\":\"^aces1trig(.*)_v2\\\\\\\\.50\\\\\\\\.(tar)$\",\"sampleFileName\":\"aces1trig_2002.191_v2.50.tar\"},\"distribution_endpoint\":\"https://wcj5mpq9sd.execute-api.us-west-2.amazonaws.com:7000/dev/\",\"launchpad\":{\"api\":\"https://api.launchpad.nasa.gov/icam/api/sm/v1\",\"certificate\":\"launchpad.pfx\",\"passphraseSecretName\":\"\"},\"provider\":{\"createdAt\":1634748290011,\"id\":\"private_bucket\",\"host\":\"sharedsbx-private\",\"updatedAt\":1634748290011,\"protocol\":\"s3\"},\"stack\":\"sharedsbx\",\"template\":\"s3://sharedsbx-internal/sharedsbx/workflow_template.json\",\"workflow_name\":\"HelloWorldWorkflow\",\"workflow_tasks\":{}},\"payload\":{\"granules\":[{\"published\":true,\"endingDateTime\":\"2002-07-12T23:59:00Z\",\"status\":\"queued\",\"timestamp\":1634852183356,\"createdAt\":1634852144343,\"processingEndDateTime\":\"2021-10-21T21:36:22.749Z\",\"productVolume\":208271947,\"timeToPreprocess\":0,\"timeToArchive\":6.057,\"productionDateTime\":\"2021-10-21T21:35:58Z\",\"cmrLink\":\"https://cmr.uat.earthdata.nasa.gov/search/concepts/G1241305554-GHRC_CDEV.umm_json\",\"files\":[{\"bucket\":\"sharedsbx-protected\",\"key\":\"aces1trig__1/aces1trig_2002.193_v2.50.tar\",\"size\":208270000,\"fileName\":\"aces1trig_2002.193_v2.50.tar\",\"source\":\"s3://sharedsbx-private/mdx_staging/aces1trig_2002.193_v2.50.tar\"},{\"bucket\":\"sharedsbx-public\",\"key\":\"aces1trig__1/aces1trig_2002.193_v2.50.tar.cmr.json\",\"size\":1947,\"fileName\":\"aces1trig_2002.193_v2.50.tar.cmr.json\",\"source\":\"s3://sharedsbx-private/mdx_staging/aces1trig_2002.193_v2.50.tar.cmr.json\",\"type\":\"metadata\"}],\"processingStartDateTime\":\"2021-10-21T21:35:44.409Z\",\"updatedAt\":1635359132166,\"beginningDateTime\":\"2002-07-12T00:00:00Z\",\"provider\":\"private_bucket\",\"granuleId\":\"aces1trig_2002.193_v2.50.tar\",\"collectionId\":\"aces1trig___1\",\"duration\":39.013,\"error\":{},\"lastUpdateDateTime\":\"2021-10-21T21:35:58Z\"}]}}}}',\n",
       "    'inputDetails': {'truncated': False}},\n",
       "   {'timestamp': '2021-10-27T18:25:49.116Z',\n",
       "    'type': 'LambdaFunctionStarted',\n",
       "    'id': 4,\n",
       "    'previousEventId': 3},\n",
       "   {'timestamp': '2021-10-27T18:25:50.631Z',\n",
       "    'type': 'LambdaFunctionSucceeded',\n",
       "    'id': 5,\n",
       "    'previousEventId': 4,\n",
       "    'output': '{\"cumulus_meta\":{\"cumulus_version\":\"9.8.0\",\"execution_name\":\"32af4b68-450e-482b-bd7a-950c95230464\",\"message_source\":\"sfn\",\"queueExecutionLimits\":{\"https://sqs.us-west-2.amazonaws.com/xxxxxxxxxxxx/sharedsbx-backgroundJobQueue\":900,\"https://sqs.us-west-2.amazonaws.com/xxxxxxxxxxxx/sharedsbx-backgroundProcessing\":5,\"https://sqs.us-west-2.amazonaws.com/xxxxxxxxxxxx/sharedsbx-near-real-time\":900,\"https://sqs.us-west-2.amazonaws.com/xxxxxxxxxxxx/sharedsbx-ongoing\":900},\"state_machine\":\"arn:aws:states:us-west-2:xxxxxxxxxxxx:stateMachine:sharedsbx-HelloWorldWorkflow\",\"system_bucket\":\"sharedsbx-internal\",\"workflow_start_time\":1635359148945,\"asyncOperationId\":\"21518142-4514-40dc-bfc2-d8723c1738ac\",\"queueUrl\":\"arn:aws:sqs:us-west-2:xxxxxxxxxxxx:sharedsbx-startSF\"},\"exception\":\"None\",\"meta\":{\"buckets\":{\"dashboard\":{\"name\":\"sharedsbx-dashboard\",\"type\":\"public\"},\"internal\":{\"name\":\"sharedsbx-internal\",\"type\":\"internal\"},\"orca_default\":{\"name\":\"sharedsbx-orca-glacier-archive\",\"type\":\"orca\"},\"private\":{\"name\":\"sharedsbx-private\",\"type\":\"private\"},\"protected\":{\"name\":\"sharedsbx-protected\",\"type\":\"protected\"},\"public\":{\"name\":\"sharedsbx-public\",\"type\":\"public\"},\"sharedprivate\":{\"name\":\"ghrcw-private\",\"type\":\"sharedprivate\"}},\"cmr\":{\"clientId\":\"ghrc_cdev\",\"cmrEnvironment\":\"UAT\",\"cmrLimit\":100,\"cmrPageSize\":50,\"oauthProvider\":\"earthdata\",\"passwordSecretName\":\"sharedsbx-message-template-cmr-password20211016220657114700000003\",\"provider\":\"GHRC_CDEV\",\"username\":\"ghrc_cdev\"},\"collection\":{\"process\":\"metadataextractor\",\"granuleIdExtraction\":\"^((aces1trig).*)\",\"version\":\"1\",\"meta\":{\"hyrax_processing\":\"false\",\"granuleRecoveryWorkflow\":\"OrcaRecoveryWorkflow\",\"excludeFileTypes\":[\".cmr.json\"],\"provider_path\":\"aces1trig/fieldCampaigns/aces/triggered/data/\",\"metadata_extractor\":[{\"regex\":\"^(.*)\\\\\\\\.(tar)$\",\"module\":\"legacy\"}]},\"createdAt\":1634748011826,\"name\":\"aces1trig\",\"duplicateHandling\":\"replace\",\"files\":[{\"bucket\":\"public\",\"regex\":\"^aces1trig(.*)\\\\\\\\.cmr\\\\\\\\.(xml|json)$\",\"reportToEms\":true,\"sampleFileName\":\"aces1trig_2002.191_v2.50.tar.cmr.xml\"},{\"bucket\":\"protected\",\"regex\":\"^aces1trig_(.*)(tar)$\",\"reportToEms\":true,\"sampleFileName\":\"aces1trig_2002.191_v2.50.tar\"}],\"updatedAt\":1634851544930,\"url_path\":\"aces1trig__1\",\"reportToEms\":true,\"granuleId\":\"^aces1trig(.*)_v2\\\\\\\\.50\\\\\\\\.(tar)$\",\"sampleFileName\":\"aces1trig_2002.191_v2.50.tar\"},\"distribution_endpoint\":\"https://wcj5mpq9sd.execute-api.us-west-2.amazonaws.com:7000/dev/\",\"launchpad\":{\"api\":\"https://api.launchpad.nasa.gov/icam/api/sm/v1\",\"certificate\":\"launchpad.pfx\",\"passphraseSecretName\":\"\"},\"provider\":{\"createdAt\":1634748290011,\"id\":\"private_bucket\",\"host\":\"sharedsbx-private\",\"updatedAt\":1634748290011,\"protocol\":\"s3\"},\"stack\":\"sharedsbx\",\"template\":\"s3://sharedsbx-internal/sharedsbx/workflow_template.json\",\"workflow_name\":\"HelloWorldWorkflow\",\"workflow_tasks\":{\"HelloWorld\":{\"name\":\"sharedsbx-HelloWorld\",\"version\":\"$LATEST\",\"arn\":\"arn:aws:lambda:us-west-2:xxxxxxxxxxxx:function:sharedsbx-HelloWorld\"}}},\"payload\":{\"hello\":\"Hello World\"},\"task_config\":{\"buckets\":\"{$.meta.buckets}\",\"provider\":\"{$.meta.provider}\",\"collection\":\"{$.meta.collection}\"}}',\n",
       "    'outputDetails': {'truncated': False}},\n",
       "   {'timestamp': '2021-10-27T18:25:50.631Z',\n",
       "    'type': 'TaskStateExited',\n",
       "    'id': 6,\n",
       "    'previousEventId': 5,\n",
       "    'name': 'HelloWorld',\n",
       "    'output': '{\"cumulus_meta\":{\"cumulus_version\":\"9.8.0\",\"execution_name\":\"32af4b68-450e-482b-bd7a-950c95230464\",\"message_source\":\"sfn\",\"queueExecutionLimits\":{\"https://sqs.us-west-2.amazonaws.com/xxxxxxxxxxxx/sharedsbx-backgroundJobQueue\":900,\"https://sqs.us-west-2.amazonaws.com/xxxxxxxxxxxx/sharedsbx-backgroundProcessing\":5,\"https://sqs.us-west-2.amazonaws.com/xxxxxxxxxxxx/sharedsbx-near-real-time\":900,\"https://sqs.us-west-2.amazonaws.com/xxxxxxxxxxxx/sharedsbx-ongoing\":900},\"state_machine\":\"arn:aws:states:us-west-2:xxxxxxxxxxxx:stateMachine:sharedsbx-HelloWorldWorkflow\",\"system_bucket\":\"sharedsbx-internal\",\"workflow_start_time\":1635359148945,\"asyncOperationId\":\"21518142-4514-40dc-bfc2-d8723c1738ac\",\"queueUrl\":\"arn:aws:sqs:us-west-2:xxxxxxxxxxxx:sharedsbx-startSF\"},\"exception\":\"None\",\"meta\":{\"buckets\":{\"dashboard\":{\"name\":\"sharedsbx-dashboard\",\"type\":\"public\"},\"internal\":{\"name\":\"sharedsbx-internal\",\"type\":\"internal\"},\"orca_default\":{\"name\":\"sharedsbx-orca-glacier-archive\",\"type\":\"orca\"},\"private\":{\"name\":\"sharedsbx-private\",\"type\":\"private\"},\"protected\":{\"name\":\"sharedsbx-protected\",\"type\":\"protected\"},\"public\":{\"name\":\"sharedsbx-public\",\"type\":\"public\"},\"sharedprivate\":{\"name\":\"ghrcw-private\",\"type\":\"sharedprivate\"}},\"cmr\":{\"clientId\":\"ghrc_cdev\",\"cmrEnvironment\":\"UAT\",\"cmrLimit\":100,\"cmrPageSize\":50,\"oauthProvider\":\"earthdata\",\"passwordSecretName\":\"sharedsbx-message-template-cmr-password20211016220657114700000003\",\"provider\":\"GHRC_CDEV\",\"username\":\"ghrc_cdev\"},\"collection\":{\"process\":\"metadataextractor\",\"granuleIdExtraction\":\"^((aces1trig).*)\",\"version\":\"1\",\"meta\":{\"hyrax_processing\":\"false\",\"granuleRecoveryWorkflow\":\"OrcaRecoveryWorkflow\",\"excludeFileTypes\":[\".cmr.json\"],\"provider_path\":\"aces1trig/fieldCampaigns/aces/triggered/data/\",\"metadata_extractor\":[{\"regex\":\"^(.*)\\\\\\\\.(tar)$\",\"module\":\"legacy\"}]},\"createdAt\":1634748011826,\"name\":\"aces1trig\",\"duplicateHandling\":\"replace\",\"files\":[{\"bucket\":\"public\",\"regex\":\"^aces1trig(.*)\\\\\\\\.cmr\\\\\\\\.(xml|json)$\",\"reportToEms\":true,\"sampleFileName\":\"aces1trig_2002.191_v2.50.tar.cmr.xml\"},{\"bucket\":\"protected\",\"regex\":\"^aces1trig_(.*)(tar)$\",\"reportToEms\":true,\"sampleFileName\":\"aces1trig_2002.191_v2.50.tar\"}],\"updatedAt\":1634851544930,\"url_path\":\"aces1trig__1\",\"reportToEms\":true,\"granuleId\":\"^aces1trig(.*)_v2\\\\\\\\.50\\\\\\\\.(tar)$\",\"sampleFileName\":\"aces1trig_2002.191_v2.50.tar\"},\"distribution_endpoint\":\"https://wcj5mpq9sd.execute-api.us-west-2.amazonaws.com:7000/dev/\",\"launchpad\":{\"api\":\"https://api.launchpad.nasa.gov/icam/api/sm/v1\",\"certificate\":\"launchpad.pfx\",\"passphraseSecretName\":\"\"},\"provider\":{\"createdAt\":1634748290011,\"id\":\"private_bucket\",\"host\":\"sharedsbx-private\",\"updatedAt\":1634748290011,\"protocol\":\"s3\"},\"stack\":\"sharedsbx\",\"template\":\"s3://sharedsbx-internal/sharedsbx/workflow_template.json\",\"workflow_name\":\"HelloWorldWorkflow\",\"workflow_tasks\":{\"HelloWorld\":{\"name\":\"sharedsbx-HelloWorld\",\"version\":\"$LATEST\",\"arn\":\"arn:aws:lambda:us-west-2:xxxxxxxxxxxx:function:sharedsbx-HelloWorld\"}}},\"payload\":{\"hello\":\"Hello World\"},\"task_config\":{\"buckets\":\"{$.meta.buckets}\",\"provider\":\"{$.meta.provider}\",\"collection\":\"{$.meta.collection}\"}}',\n",
       "    'outputDetails': {'truncated': False}},\n",
       "   {'timestamp': '2021-10-27T18:25:50.631Z',\n",
       "    'type': 'ExecutionSucceeded',\n",
       "    'id': 7,\n",
       "    'previousEventId': 6,\n",
       "    'output': '{\"cumulus_meta\":{\"cumulus_version\":\"9.8.0\",\"execution_name\":\"32af4b68-450e-482b-bd7a-950c95230464\",\"message_source\":\"sfn\",\"queueExecutionLimits\":{\"https://sqs.us-west-2.amazonaws.com/xxxxxxxxxxxx/sharedsbx-backgroundJobQueue\":900,\"https://sqs.us-west-2.amazonaws.com/xxxxxxxxxxxx/sharedsbx-backgroundProcessing\":5,\"https://sqs.us-west-2.amazonaws.com/xxxxxxxxxxxx/sharedsbx-near-real-time\":900,\"https://sqs.us-west-2.amazonaws.com/xxxxxxxxxxxx/sharedsbx-ongoing\":900},\"state_machine\":\"arn:aws:states:us-west-2:xxxxxxxxxxxx:stateMachine:sharedsbx-HelloWorldWorkflow\",\"system_bucket\":\"sharedsbx-internal\",\"workflow_start_time\":1635359148945,\"asyncOperationId\":\"21518142-4514-40dc-bfc2-d8723c1738ac\",\"queueUrl\":\"arn:aws:sqs:us-west-2:xxxxxxxxxxxx:sharedsbx-startSF\"},\"exception\":\"None\",\"meta\":{\"buckets\":{\"dashboard\":{\"name\":\"sharedsbx-dashboard\",\"type\":\"public\"},\"internal\":{\"name\":\"sharedsbx-internal\",\"type\":\"internal\"},\"orca_default\":{\"name\":\"sharedsbx-orca-glacier-archive\",\"type\":\"orca\"},\"private\":{\"name\":\"sharedsbx-private\",\"type\":\"private\"},\"protected\":{\"name\":\"sharedsbx-protected\",\"type\":\"protected\"},\"public\":{\"name\":\"sharedsbx-public\",\"type\":\"public\"},\"sharedprivate\":{\"name\":\"ghrcw-private\",\"type\":\"sharedprivate\"}},\"cmr\":{\"clientId\":\"ghrc_cdev\",\"cmrEnvironment\":\"UAT\",\"cmrLimit\":100,\"cmrPageSize\":50,\"oauthProvider\":\"earthdata\",\"passwordSecretName\":\"sharedsbx-message-template-cmr-password20211016220657114700000003\",\"provider\":\"GHRC_CDEV\",\"username\":\"ghrc_cdev\"},\"collection\":{\"process\":\"metadataextractor\",\"granuleIdExtraction\":\"^((aces1trig).*)\",\"version\":\"1\",\"meta\":{\"hyrax_processing\":\"false\",\"granuleRecoveryWorkflow\":\"OrcaRecoveryWorkflow\",\"excludeFileTypes\":[\".cmr.json\"],\"provider_path\":\"aces1trig/fieldCampaigns/aces/triggered/data/\",\"metadata_extractor\":[{\"regex\":\"^(.*)\\\\\\\\.(tar)$\",\"module\":\"legacy\"}]},\"createdAt\":1634748011826,\"name\":\"aces1trig\",\"duplicateHandling\":\"replace\",\"files\":[{\"bucket\":\"public\",\"regex\":\"^aces1trig(.*)\\\\\\\\.cmr\\\\\\\\.(xml|json)$\",\"reportToEms\":true,\"sampleFileName\":\"aces1trig_2002.191_v2.50.tar.cmr.xml\"},{\"bucket\":\"protected\",\"regex\":\"^aces1trig_(.*)(tar)$\",\"reportToEms\":true,\"sampleFileName\":\"aces1trig_2002.191_v2.50.tar\"}],\"updatedAt\":1634851544930,\"url_path\":\"aces1trig__1\",\"reportToEms\":true,\"granuleId\":\"^aces1trig(.*)_v2\\\\\\\\.50\\\\\\\\.(tar)$\",\"sampleFileName\":\"aces1trig_2002.191_v2.50.tar\"},\"distribution_endpoint\":\"https://wcj5mpq9sd.execute-api.us-west-2.amazonaws.com:7000/dev/\",\"launchpad\":{\"api\":\"https://api.launchpad.nasa.gov/icam/api/sm/v1\",\"certificate\":\"launchpad.pfx\",\"passphraseSecretName\":\"\"},\"provider\":{\"createdAt\":1634748290011,\"id\":\"private_bucket\",\"host\":\"sharedsbx-private\",\"updatedAt\":1634748290011,\"protocol\":\"s3\"},\"stack\":\"sharedsbx\",\"template\":\"s3://sharedsbx-internal/sharedsbx/workflow_template.json\",\"workflow_name\":\"HelloWorldWorkflow\",\"workflow_tasks\":{\"HelloWorld\":{\"name\":\"sharedsbx-HelloWorld\",\"version\":\"$LATEST\",\"arn\":\"arn:aws:lambda:us-west-2:xxxxxxxxxxxx:function:sharedsbx-HelloWorld\"}}},\"payload\":{\"hello\":\"Hello World\"},\"task_config\":{\"buckets\":\"{$.meta.buckets}\",\"provider\":\"{$.meta.provider}\",\"collection\":\"{$.meta.collection}\"}}',\n",
       "    'outputDetails': {'truncated': False}}]},\n",
       " 'stateMachine': {'stateMachineArn': 'arn:aws:states:us-west-2:xxxxxxxxxxxx:stateMachine:sharedsbx-HelloWorldWorkflow',\n",
       "  'name': 'sharedsbx-HelloWorldWorkflow',\n",
       "  'status': 'ACTIVE',\n",
       "  'definition': '   {\\n  \"Comment\": \"Returns Hello World\",\\n  \"StartAt\": \"HelloWorld\",\\n  \"States\": {\\n    \"HelloWorld\": {\\n      \"Parameters\": {\\n        \"cma\": {\\n          \"event.$\": \"$\",\\n          \"task_config\": {\\n            \"buckets\": \"{$.meta.buckets}\",\\n            \"provider\": \"{$.meta.provider}\",\\n            \"collection\": \"{$.meta.collection}\"\\n          }\\n        }\\n      },\\n      \"Type\": \"Task\",\\n      \"Resource\": \"arn:aws:lambda:us-west-2:xxxxxxxxxxxx:function:sharedsbx-HelloWorld\",\\n      \"Retry\": [\\n        {\\n          \"ErrorEquals\": [\\n            \"Lambda.ServiceException\",\\n            \"Lambda.AWSLambdaException\",\\n            \"Lambda.SdkClientException\"\\n          ],\\n          \"IntervalSeconds\": 2,\\n          \"MaxAttempts\": 6,\\n          \"BackoffRate\": 2\\n        }\\n      ],\\n      \"End\": true\\n    }\\n  }\\n}\\n',\n",
       "  'roleArn': 'arn:aws:iam::xxxxxxxxxxxx:role/sharedsbx-steprole',\n",
       "  'type': 'STANDARD',\n",
       "  'creationDate': '2021-10-16T22:58:45.669Z',\n",
       "  'loggingConfiguration': {'level': 'OFF', 'includeExecutionData': False},\n",
       "  'tracingConfiguration': {'enabled': False}}}"
      ]
     },
     "execution_count": 5,
     "metadata": {},
     "output_type": "execute_result"
    }
   ],
   "source": [
    "cml.get_execution_status(execution_arn=\"arn:aws:states:us-west-2:xxxxxxxxxxxx:execution:sharedsbx-HelloWorldWorkflow:32af4b68-450e-482b-bd7a-950c95230464\")"
   ]
  },
  {
   "cell_type": "markdown",
   "id": "e599c6d5-b9d2-47ae-873f-db8f5e2b9569",
   "metadata": {},
   "source": [
    "## Search Exectuions by Granules"
   ]
  },
  {
   "cell_type": "code",
   "execution_count": 6,
   "id": "c7fea8ec-598c-420d-aed2-1d3c39fcbbfd",
   "metadata": {},
   "outputs": [],
   "source": [
    "search_executions_definition={\n",
    "    \"granules\": [{\n",
    "        \"granuleId\":\"aces1trig_2002.241_v2.50.tar\",\n",
    "        \"collectionId\": \"aces1trig___1\"\n",
    "     }]\n",
    "}"
   ]
  },
  {
   "cell_type": "code",
   "execution_count": 7,
   "id": "c3e3f88a-c5c0-46ab-bc73-6f48dcae4ea7",
   "metadata": {},
   "outputs": [
    {
     "data": {
      "text/plain": [
       "{'meta': {'count': 1},\n",
       " 'results': [{'name': 'aces1trig-00c6f2db-7fcd-49c5-9122-3107fe0702cd',\n",
       "   'status': 'completed',\n",
       "   'arn': 'arn:aws:states:us-west-2:xxxxxxxxxxxx:execution:sharedsbx-IngestGranule:aces1trig-00c6f2db-7fcd-49c5-9122-3107fe0702cd',\n",
       "   'duration': 39.432,\n",
       "   'error': {},\n",
       "   'tasks': {'PostToCMR': {'arn': 'arn:aws:lambda:us-west-2:xxxxxxxxxxxx:function:sharedsbx-PostToCmr',\n",
       "     'name': 'sharedsbx-PostToCmr',\n",
       "     'version': '$LATEST'},\n",
       "    'SyncGranule': {'arn': 'arn:aws:lambda:us-west-2:xxxxxxxxxxxx:function:sharedsbx-SyncGranule',\n",
       "     'name': 'sharedsbx-SyncGranule',\n",
       "     'version': '$LATEST'},\n",
       "    'MoveGranuleStep': {'arn': 'arn:aws:lambda:us-west-2:xxxxxxxxxxxx:function:sharedsbx-MoveGranules',\n",
       "     'name': 'sharedsbx-MoveGranules',\n",
       "     'version': '$LATEST'},\n",
       "    'UpdateMetadataLinks': {'arn': 'arn:aws:lambda:us-west-2:xxxxxxxxxxxx:function:sharedsbx-UpdateGranulesCmrMetadataFileLinks',\n",
       "     'name': 'sharedsbx-UpdateGranulesCmrMetadataFileLinks',\n",
       "     'version': '$LATEST'}},\n",
       "   'originalPayload': {'granules': [{'files': [{'name': 'aces1trig_2002.241_v2.50.tar',\n",
       "        'path': 'aces1trig/fieldCampaigns/aces/triggered/data',\n",
       "        'size': 48394240,\n",
       "        'time': 1635359901000,\n",
       "        'type': '',\n",
       "        'bucket': 'sharedsbx-protected',\n",
       "        'url_path': 'aces1trig__1'}],\n",
       "      'version': '1',\n",
       "      'dataType': 'aces1trig',\n",
       "      'granuleId': 'aces1trig_2002.241_v2.50.tar'}]},\n",
       "   'finalPayload': {'granules': [{'files': [{'name': 'aces1trig_2002.241_v2.50.tar',\n",
       "        'path': 'mdx_staging/',\n",
       "        'size': 48390000,\n",
       "        'bucket': 'sharedsbx-protected',\n",
       "        'filename': 's3://sharedsbx-protected/aces1trig__1/aces1trig_2002.241_v2.50.tar',\n",
       "        'filepath': 'aces1trig__1/aces1trig_2002.241_v2.50.tar',\n",
       "        'url_path': 'aces1trig__1'},\n",
       "       {'etag': '\"171bcdc05009a6896150db3e2b016375\"',\n",
       "        'name': 'aces1trig_2002.241_v2.50.tar.cmr.json',\n",
       "        'path': 'mdx_staging/',\n",
       "        'size': 1946,\n",
       "        'type': 'metadata',\n",
       "        'bucket': 'sharedsbx-public',\n",
       "        'filename': 's3://sharedsbx-public/aces1trig__1/aces1trig_2002.241_v2.50.tar.cmr.json',\n",
       "        'filepath': 'aces1trig__1/aces1trig_2002.241_v2.50.tar.cmr.json',\n",
       "        'url_path': 'aces1trig__1'}],\n",
       "      'cmrLink': 'https://cmr.uat.earthdata.nasa.gov/search/concepts/G1241305553-GHRC_CDEV.umm_json',\n",
       "      'granuleId': 'aces1trig_2002.241_v2.50.tar',\n",
       "      'published': True,\n",
       "      'cmrConceptId': 'G1241305553-GHRC_CDEV',\n",
       "      'cmrMetadataFormat': 'umm_json_v1_6_2',\n",
       "      'post_to_cmr_duration': 17655}]},\n",
       "   'type': 'IngestGranule',\n",
       "   'execution': 'https://console.aws.amazon.com/states/home?region=us-west-2#/executions/details/arn:aws:states:us-west-2:xxxxxxxxxxxx:execution:sharedsbx-IngestGranule:aces1trig-00c6f2db-7fcd-49c5-9122-3107fe0702cd',\n",
       "   'cumulusVersion': '9.8.0',\n",
       "   'collectionId': 'aces1trig___1',\n",
       "   'parentArn': 'arn:aws:states:us-west-2:xxxxxxxxxxxx:execution:sharedsbx-DiscoverGranules:33ff1f3d-a21f-4a92-9a2b-d47b6d2b60c2',\n",
       "   'createdAt': 1635360104486,\n",
       "   'updatedAt': 1635360144519,\n",
       "   'timestamp': 1635360144519}]}"
      ]
     },
     "execution_count": 7,
     "metadata": {},
     "output_type": "execute_result"
    }
   ],
   "source": [
    "cml.search_executions_by_granules(data=search_executions_definition)"
   ]
  },
  {
   "cell_type": "markdown",
   "id": "00f83897-7076-40d1-acae-73c16fe21c4a",
   "metadata": {},
   "source": [
    "## Search Workflows by Granules"
   ]
  },
  {
   "cell_type": "code",
   "execution_count": 8,
   "id": "aea29c07-1ef3-471b-bcf2-b0e7d4c59fec",
   "metadata": {},
   "outputs": [],
   "source": [
    "search_workflows_definition={\n",
    "    \"granules\": [{\n",
    "        \"granuleId\":\"aces1trig_2002.241_v2.50.tar\",\n",
    "        \"collectionId\": \"aces1trig___1\"\n",
    "    }]\n",
    "}"
   ]
  },
  {
   "cell_type": "code",
   "execution_count": 9,
   "id": "6a30981f-1c94-40c2-9c93-2234b6d25c49",
   "metadata": {},
   "outputs": [
    {
     "data": {
      "text/plain": [
       "['IngestGranule']"
      ]
     },
     "execution_count": 9,
     "metadata": {},
     "output_type": "execute_result"
    }
   ],
   "source": [
    "cml.search_workflows_by_granules(data=search_workflows_definition)"
   ]
  },
  {
   "cell_type": "markdown",
   "id": "d59e9ef7-3580-43a2-b022-0eb42a4d934a",
   "metadata": {},
   "source": [
    "## Create Execution"
   ]
  },
  {
   "cell_type": "code",
   "execution_count": 10,
   "id": "22f463ed-61d4-4ca9-a135-1ed17fe18248",
   "metadata": {
    "tags": []
   },
   "outputs": [],
   "source": [
    "execution_definition={\n",
    "    \"arn\": \"arn:aws:states:us-west-2:xxxxxxxxxxxx:execution:sharedsbx-HelloWorldWorkflow:test-create-32af4b68-450e-482b-bd7a-950c95230464\",\n",
    "    \"name\": \"testExecution\",\n",
    "    \"status\": \"running\"\n",
    "}"
   ]
  },
  {
   "cell_type": "code",
   "execution_count": 11,
   "id": "261f8c68-9d02-4a91-8556-c5f4d6a457d9",
   "metadata": {},
   "outputs": [
    {
     "data": {
      "text/plain": [
       "{'message': 'Successfully wrote execution with arn arn:aws:states:us-west-2:xxxxxxxxxxxx:execution:sharedsbx-HelloWorldWorkflow:test-create-32af4b68-450e-482b-bd7a-950c95230464'}"
      ]
     },
     "execution_count": 11,
     "metadata": {},
     "output_type": "execute_result"
    }
   ],
   "source": [
    "cml.create_execution(data=execution_definition)"
   ]
  },
  {
   "cell_type": "markdown",
   "id": "da02108d-2b8b-42a3-ad44-2f3900528c18",
   "metadata": {},
   "source": [
    "## Update/ Replace Execution"
   ]
  },
  {
   "cell_type": "code",
   "execution_count": 12,
   "id": "9809d3b4-a9eb-477b-99dd-e61286ab13c9",
   "metadata": {},
   "outputs": [],
   "source": [
    "new_execution_definition={\n",
    "    \"arn\": \"arn:aws:states:us-west-2:xxxxxxxxxxxx:execution:sharedsbx-HelloWorldWorkflow:test-create-32af4b68-450e-482b-bd7a-950c95230464\",\n",
    "    \"name\": \"testExecution\",\n",
    "    \"status\": \"completed\"\n",
    "}"
   ]
  },
  {
   "cell_type": "code",
   "execution_count": 13,
   "id": "02bc961b-24b5-4e7a-9ed8-83be2dba7eee",
   "metadata": {},
   "outputs": [
    {
     "data": {
      "text/plain": [
       "{'message': 'Successfully updated execution with arn arn:aws:states:us-west-2:xxxxxxxxxxxx:execution:sharedsbx-HelloWorldWorkflow:test-create-32af4b68-450e-482b-bd7a-950c95230464'}"
      ]
     },
     "execution_count": 13,
     "metadata": {},
     "output_type": "execute_result"
    }
   ],
   "source": [
    "cml.update_execution(data=new_execution_definition)"
   ]
  },
  {
   "cell_type": "markdown",
   "id": "74b288b8-7aa6-443e-8b3c-b76d26ad1c74",
   "metadata": {},
   "source": [
    "## Delete Execution"
   ]
  },
  {
   "cell_type": "code",
   "execution_count": 14,
   "id": "d18f6b62-11e1-4197-a0f7-87696eb13539",
   "metadata": {},
   "outputs": [
    {
     "data": {
      "text/plain": [
       "{'message': 'Record deleted'}"
      ]
     },
     "execution_count": 14,
     "metadata": {},
     "output_type": "execute_result"
    }
   ],
   "source": [
    "cml.delete_execution(execution_arn=\"arn:aws:states:us-west-2:xxxxxxxxxxxx:execution:sharedsbx-HelloWorldWorkflow:test-create-32af4b68-450e-482b-bd7a-950c95230464\")"
   ]
  }
 ],
 "metadata": {
  "kernelspec": {
   "display_name": "Python 3 (ipykernel)",
   "language": "python",
   "name": "python3"
  },
  "language_info": {
   "codemirror_mode": {
    "name": "ipython",
    "version": 3
   },
   "file_extension": ".py",
   "mimetype": "text/x-python",
   "name": "python",
   "nbconvert_exporter": "python",
   "pygments_lexer": "ipython3",
   "version": "3.7.10"
  }
 },
 "nbformat": 4,
 "nbformat_minor": 5
}