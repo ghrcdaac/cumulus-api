{
 "cells": [
  {
   "cell_type": "markdown",
   "id": "9ac37aa0-7ee0-4eab-952d-265b82d52269",
   "metadata": {},
   "source": [
    "## Import Package"
   ]
  },
  {
   "cell_type": "code",
   "execution_count": 1,
   "id": "e75ddc63-9db3-4455-a3de-c8358b230670",
   "metadata": {},
   "outputs": [],
   "source": [
    "from cumulus_api import CumulusApi"
   ]
  },
  {
   "cell_type": "markdown",
   "id": "a366c6b2-535d-4714-b2c2-7ac92f9aec8f",
   "metadata": {},
   "source": [
    "## Initialize Cumulus API Class"
   ]
  },
  {
   "cell_type": "code",
   "execution_count": 2,
   "id": "47243600-d0eb-4cf3-9a0c-499add869e5b",
   "metadata": {},
   "outputs": [],
   "source": [
    "cml = CumulusApi()"
   ]
  },
  {
   "cell_type": "markdown",
   "id": "dc12627b-61f6-4d1e-9145-32b3cae364d8",
   "metadata": {},
   "source": [
    "## List Providers"
   ]
  },
  {
   "cell_type": "code",
   "execution_count": 3,
   "id": "a6cf4221-2e78-4565-8209-a339c365d171",
   "metadata": {},
   "outputs": [
    {
     "data": {
      "text/plain": [
       "{'meta': {'name': 'cumulus-api',\n",
       "  'stack': 'sharedsbx',\n",
       "  'table': 'provider',\n",
       "  'limit': 1,\n",
       "  'page': 1,\n",
       "  'count': 2},\n",
       " 'results': [{'createdAt': 1634847684503,\n",
       "   'protocol': 's3',\n",
       "   'host': 'sharedsbx-protected',\n",
       "   'id': 'protected-bucket',\n",
       "   'updatedAt': 1634847684503,\n",
       "   'timestamp': 1634847736324}]}"
      ]
     },
     "execution_count": 3,
     "metadata": {},
     "output_type": "execute_result"
    }
   ],
   "source": [
    "cml.list_providers(limit=1)"
   ]
  },
  {
   "cell_type": "markdown",
   "id": "37227fae-d469-4bf4-9c00-460db6683837",
   "metadata": {},
   "source": [
    "## Get Provider"
   ]
  },
  {
   "cell_type": "code",
   "execution_count": 4,
   "id": "2996b6af-9dd9-4f30-ac06-3d1a596fa2f9",
   "metadata": {},
   "outputs": [
    {
     "data": {
      "text/plain": [
       "{'createdAt': 1634748290011,\n",
       " 'id': 'private_bucket',\n",
       " 'host': 'sharedsbx-private',\n",
       " 'updatedAt': 1634748290011,\n",
       " 'protocol': 's3'}"
      ]
     },
     "execution_count": 4,
     "metadata": {},
     "output_type": "execute_result"
    }
   ],
   "source": [
    "cml.get_provider(\"private_bucket\")"
   ]
  },
  {
   "cell_type": "markdown",
   "id": "bda02127-5769-4a98-949a-6debd27263e9",
   "metadata": {},
   "source": [
    "## Create Provider"
   ]
  },
  {
   "cell_type": "code",
   "execution_count": 5,
   "id": "7a501758-78d4-4102-b1b1-5f4cfba62797",
   "metadata": {},
   "outputs": [],
   "source": [
    "provider_definition={\n",
    "    \"host\": \"ghrcsit-private\", \n",
    "    \"id\": \"test_provider\", \n",
    "    \"protocol\": \"s3\", \n",
    "    \"globalConnectionLimit\": 10\n",
    "}"
   ]
  },
  {
   "cell_type": "code",
   "execution_count": 6,
   "id": "570de296-19f0-4ba9-a6d0-33778cca5529",
   "metadata": {},
   "outputs": [
    {
     "data": {
      "text/plain": [
       "{'record': {'createdAt': 1635453662049,\n",
       "  'updatedAt': 1635453662049,\n",
       "  'host': 'ghrcsit-private',\n",
       "  'id': 'test_provider',\n",
       "  'protocol': 's3',\n",
       "  'globalConnectionLimit': 10},\n",
       " 'message': 'Record saved'}"
      ]
     },
     "execution_count": 6,
     "metadata": {},
     "output_type": "execute_result"
    }
   ],
   "source": [
    "cml.create_provider(data=provider_definition)"
   ]
  },
  {
   "cell_type": "markdown",
   "id": "7b7422b3-068a-44ce-973b-6850c4c025d6",
   "metadata": {},
   "source": [
    "## Update/ Replace Provider"
   ]
  },
  {
   "cell_type": "code",
   "execution_count": 7,
   "id": "55010fa3-8a7d-41ff-9468-072ee34dd7a4",
   "metadata": {},
   "outputs": [],
   "source": [
    "new_provider_definition={\n",
    "    \"host\": \"ghrcsit-protected\", \n",
    "    \"id\": \"test_provider\", \n",
    "    \"protocol\": \"s3\", \n",
    "    \"globalConnectionLimit\": 10\n",
    "}"
   ]
  },
  {
   "cell_type": "code",
   "execution_count": 8,
   "id": "7fef581c-1e20-4516-9a27-b4fefa280448",
   "metadata": {},
   "outputs": [
    {
     "data": {
      "text/plain": [
       "{'createdAt': 1635453662049,\n",
       " 'updatedAt': 1635453668248,\n",
       " 'host': 'ghrcsit-protected',\n",
       " 'id': 'test_provider',\n",
       " 'protocol': 's3',\n",
       " 'globalConnectionLimit': 10}"
      ]
     },
     "execution_count": 8,
     "metadata": {},
     "output_type": "execute_result"
    }
   ],
   "source": [
    "cml.update_provider(data=new_provider_definition)"
   ]
  },
  {
   "cell_type": "markdown",
   "id": "90f69f6a-036c-4b39-bd01-23c749a179e7",
   "metadata": {},
   "source": [
    "## Delete Provider"
   ]
  },
  {
   "cell_type": "code",
   "execution_count": 9,
   "id": "88b72c76-9840-4e39-9150-376a16ca94b4",
   "metadata": {},
   "outputs": [
    {
     "data": {
      "text/plain": [
       "{'message': 'Record deleted'}"
      ]
     },
     "execution_count": 9,
     "metadata": {},
     "output_type": "execute_result"
    }
   ],
   "source": [
    "cml.delete_provider(provider_id=\"test_provider\")"
   ]
  }
 ],
 "metadata": {
  "kernelspec": {
   "display_name": "Python 3 (ipykernel)",
   "language": "python",
   "name": "python3"
  },
  "language_info": {
   "codemirror_mode": {
    "name": "ipython",
    "version": 3
   },
   "file_extension": ".py",
   "mimetype": "text/x-python",
   "name": "python",
   "nbconvert_exporter": "python",
   "pygments_lexer": "ipython3",
   "version": "3.7.10"
  }
 },
 "nbformat": 4,
 "nbformat_minor": 5
}
