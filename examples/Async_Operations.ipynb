{
 "cells": [
  {
   "cell_type": "markdown",
   "id": "9ac37aa0-7ee0-4eab-952d-265b82d52269",
   "metadata": {},
   "source": [
    "## Import Package"
   ]
  },
  {
   "cell_type": "code",
   "execution_count": 1,
   "id": "e75ddc63-9db3-4455-a3de-c8358b230670",
   "metadata": {},
   "outputs": [],
   "source": [
    "from cumulus_api import CumulusApi"
   ]
  },
  {
   "cell_type": "markdown",
   "id": "a366c6b2-535d-4714-b2c2-7ac92f9aec8f",
   "metadata": {},
   "source": [
    "## Initialize Cumulus API Class"
   ]
  },
  {
   "cell_type": "code",
   "execution_count": 2,
   "id": "47243600-d0eb-4cf3-9a0c-499add869e5b",
   "metadata": {},
   "outputs": [],
   "source": [
    "cml = CumulusApi()"
   ]
  },
  {
   "cell_type": "markdown",
   "id": "dc12627b-61f6-4d1e-9145-32b3cae364d8",
   "metadata": {
    "tags": []
   },
   "source": [
    "## List Async Operations"
   ]
  },
  {
   "cell_type": "code",
   "execution_count": 3,
   "id": "a6cf4221-2e78-4565-8209-a339c365d171",
   "metadata": {},
   "outputs": [
    {
     "data": {
      "text/plain": [
       "{'meta': {'name': 'cumulus-api',\n",
       "  'stack': 'sharedsbx',\n",
       "  'table': 'asyncOperation',\n",
       "  'limit': 1,\n",
       "  'page': 1,\n",
       "  'count': 2},\n",
       " 'results': [{'output': '[\"aces1trig_2002.193_v2.50.tar\"]',\n",
       "   'createdAt': 1635359111995,\n",
       "   'taskArn': 'arn:aws:ecs:us-west-2:xxxxxxxxxxxx:task/sharedsbx-CumulusECSCluster/a7f095ee46084cc1b2b21dd946f76ba4',\n",
       "   'description': 'Bulk run HelloWorldWorkflow on 1 granules',\n",
       "   'operationType': 'Bulk Granules',\n",
       "   'id': '21518142-4514-40dc-bfc2-d8723c1738ac',\n",
       "   'status': 'SUCCEEDED',\n",
       "   'updatedAt': 1635359148636,\n",
       "   'timestamp': 1635359158391}]}"
      ]
     },
     "execution_count": 3,
     "metadata": {},
     "output_type": "execute_result"
    }
   ],
   "source": [
    "cml.list_async_operations(limit=1)"
   ]
  },
  {
   "cell_type": "markdown",
   "id": "4f95752b-8fd8-4349-9411-5e4606515783",
   "metadata": {},
   "source": [
    "## Get Async Operation"
   ]
  },
  {
   "cell_type": "code",
   "execution_count": 4,
   "id": "875f81e0-10e0-4ce5-bf3a-018d2a7cbea7",
   "metadata": {},
   "outputs": [
    {
     "data": {
      "text/plain": [
       "{'id': '21518142-4514-40dc-bfc2-d8723c1738ac',\n",
       " 'status': 'SUCCEEDED',\n",
       " 'taskArn': 'arn:aws:ecs:us-west-2:xxxxxxxxxxxx:task/sharedsbx-CumulusECSCluster/a7f095ee46084cc1b2b21dd946f76ba4',\n",
       " 'description': 'Bulk run HelloWorldWorkflow on 1 granules',\n",
       " 'operationType': 'Bulk Granules',\n",
       " 'output': '[\"aces1trig_2002.193_v2.50.tar\"]'}"
      ]
     },
     "execution_count": 4,
     "metadata": {},
     "output_type": "execute_result"
    }
   ],
   "source": [
    "cml.get_async_operation(operation_id=\"21518142-4514-40dc-bfc2-d8723c1738ac\")"
   ]
  }
 ],
 "metadata": {
  "kernelspec": {
   "display_name": "Python 3 (ipykernel)",
   "language": "python",
   "name": "python3"
  },
  "language_info": {
   "codemirror_mode": {
    "name": "ipython",
    "version": 3
   },
   "file_extension": ".py",
   "mimetype": "text/x-python",
   "name": "python",
   "nbconvert_exporter": "python",
   "pygments_lexer": "ipython3",
   "version": "3.7.10"
  }
 },
 "nbformat": 4,
 "nbformat_minor": 5
}