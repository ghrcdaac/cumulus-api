{
 "cells": [
  {
   "cell_type": "markdown",
   "id": "9ac37aa0-7ee0-4eab-952d-265b82d52269",
   "metadata": {},
   "source": [
    "## Import Package"
   ]
  },
  {
   "cell_type": "code",
   "execution_count": 1,
   "id": "e75ddc63-9db3-4455-a3de-c8358b230670",
   "metadata": {},
   "outputs": [],
   "source": [
    "from cumulus_api import CumulusApi"
   ]
  },
  {
   "cell_type": "markdown",
   "id": "a366c6b2-535d-4714-b2c2-7ac92f9aec8f",
   "metadata": {},
   "source": [
    "## Initialize Cumulus API Class"
   ]
  },
  {
   "cell_type": "code",
   "execution_count": 2,
   "id": "47243600-d0eb-4cf3-9a0c-499add869e5b",
   "metadata": {},
   "outputs": [],
   "source": [
    "cml = CumulusApi()"
   ]
  },
  {
   "cell_type": "markdown",
   "id": "dc12627b-61f6-4d1e-9145-32b3cae364d8",
   "metadata": {},
   "source": [
    "## Get Stats Summary"
   ]
  },
  {
   "cell_type": "code",
   "execution_count": 3,
   "id": "a6cf4221-2e78-4565-8209-a339c365d171",
   "metadata": {},
   "outputs": [
    {
     "data": {
      "text/plain": [
       "{'errors': {'dateFrom': '1970-01-01T12:00:00+00:00',\n",
       "  'dateTo': '2021-10-28T08:47:49+00:00',\n",
       "  'value': 0,\n",
       "  'aggregation': 'count',\n",
       "  'unit': 'error'},\n",
       " 'collections': {'dateFrom': '1970-01-01T12:00:00+00:00',\n",
       "  'dateTo': '2021-10-28T08:47:49+00:00',\n",
       "  'value': 8,\n",
       "  'aggregation': 'count',\n",
       "  'unit': 'collection'},\n",
       " 'processingTime': {'dateFrom': '1970-01-01T12:00:00+00:00',\n",
       "  'dateTo': '2021-10-28T08:47:49+00:00',\n",
       "  'value': 80.7123105540779,\n",
       "  'aggregation': 'average',\n",
       "  'unit': 'second'},\n",
       " 'granules': {'dateFrom': '1970-01-01T12:00:00+00:00',\n",
       "  'dateTo': '2021-10-28T08:47:49+00:00',\n",
       "  'value': 161,\n",
       "  'aggregation': 'count',\n",
       "  'unit': 'granule'}}"
      ]
     },
     "execution_count": 3,
     "metadata": {},
     "output_type": "execute_result"
    }
   ],
   "source": [
    "cml.get_stats_summary()"
   ]
  },
  {
   "cell_type": "markdown",
   "id": "f2a57120-49e8-41e0-9113-547b0ec7de91",
   "metadata": {},
   "source": [
    "## Get Stats Aggregate (Keyword Count Frequency)"
   ]
  },
  {
   "cell_type": "code",
   "execution_count": 4,
   "id": "7aa4446e-c806-4dd0-bb31-900112d30657",
   "metadata": {},
   "outputs": [],
   "source": [
    "count_data={\n",
    "    \"type\": \"granules\",\n",
    "    \"field\": \"status.keyword\",\n",
    "    \"collectionId\": \"aces1trig___1\",\n",
    "}"
   ]
  },
  {
   "cell_type": "code",
   "execution_count": 5,
   "id": "153bba54-d5e3-460a-8057-7d7d04efb944",
   "metadata": {},
   "outputs": [
    {
     "data": {
      "text/plain": [
       "{'meta': {'name': 'cumulus-api', 'count': 410, 'field': 'status'},\n",
       " 'count': [{'key': 'completed', 'count': 371},\n",
       "  {'key': 'SUCCEEDED', 'count': 7},\n",
       "  {'key': 'failed', 'count': 5},\n",
       "  {'key': 'running', 'count': 3},\n",
       "  {'key': 'RUNNING', 'count': 2},\n",
       "  {'key': 'Pending', 'count': 1},\n",
       "  {'key': 'queued', 'count': 1}]}"
      ]
     },
     "execution_count": 5,
     "metadata": {},
     "output_type": "execute_result"
    }
   ],
   "source": [
    "cml.get_stats_aggregate(data=count_data)"
   ]
  }
 ],
 "metadata": {
  "kernelspec": {
   "display_name": "Python 3 (ipykernel)",
   "language": "python",
   "name": "python3"
  },
  "language_info": {
   "codemirror_mode": {
    "name": "ipython",
    "version": 3
   },
   "file_extension": ".py",
   "mimetype": "text/x-python",
   "name": "python",
   "nbconvert_exporter": "python",
   "pygments_lexer": "ipython3",
   "version": "3.7.10"
  }
 },
 "nbformat": 4,
 "nbformat_minor": 5
}
